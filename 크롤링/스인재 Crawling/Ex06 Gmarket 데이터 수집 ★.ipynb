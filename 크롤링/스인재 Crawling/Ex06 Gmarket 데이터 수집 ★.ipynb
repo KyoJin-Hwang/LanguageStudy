{
 "cells": [
  {
   "cell_type": "code",
   "execution_count": 1,
   "id": "335cbe3d",
   "metadata": {},
   "outputs": [],
   "source": [
    "from selenium import webdriver as wb\n",
    "import time\n",
    "import pandas as pd"
   ]
  },
  {
   "cell_type": "code",
   "execution_count": 3,
   "id": "ad1777af",
   "metadata": {},
   "outputs": [],
   "source": [
    "#1. 크롬드라이버 실행\n",
    "#1.1 gmarket 사이트 이동 \n",
    "driver = wb.Chrome()\n",
    "driver.get('http://corners.gmarket.co.kr/Bestsellers')"
   ]
  },
  {
   "cell_type": "code",
   "execution_count": 76,
   "id": "bd1d6b75",
   "metadata": {},
   "outputs": [
    {
     "name": "stderr",
     "output_type": "stream",
     "text": [
      "C:\\Users\\smhrd\\AppData\\Local\\Temp/ipykernel_11072/2903873901.py:2: DeprecationWarning: find_elements_by_css_selector is deprecated. Please use find_elements(by=By.CSS_SELECTOR, value=css_selector) instead\n",
      "  btn = driver.find_elements_by_css_selector('img.lazy')\n"
     ]
    }
   ],
   "source": [
    "#2. 첫번째 상품 클릭 페이지이동\n",
    "btn = driver.find_elements_by_css_selector('img.lazy')\n",
    "btn[0].click()"
   ]
  },
  {
   "cell_type": "code",
   "execution_count": 17,
   "id": "893dc51a",
   "metadata": {
    "scrolled": true
   },
   "outputs": [
    {
     "name": "stderr",
     "output_type": "stream",
     "text": [
      "C:\\Users\\smhrd\\AppData\\Local\\Temp/ipykernel_11072/1525876788.py:4: DeprecationWarning: find_element_by_css_selector is deprecated. Please use find_element(by=By.CSS_SELECTOR, value=css_selector) instead\n",
      "  title = driver.find_element_by_css_selector('h1.itemtit').text\n",
      "C:\\Users\\smhrd\\AppData\\Local\\Temp/ipykernel_11072/1525876788.py:5: DeprecationWarning: find_element_by_css_selector is deprecated. Please use find_element(by=By.CSS_SELECTOR, value=css_selector) instead\n",
      "  price = driver.find_element_by_css_selector('strong.price_real').text\n",
      "C:\\Users\\smhrd\\AppData\\Local\\Temp/ipykernel_11072/1525876788.py:6: DeprecationWarning: find_element_by_css_selector is deprecated. Please use find_element(by=By.CSS_SELECTOR, value=css_selector) instead\n",
      "  cate = driver.find_element_by_css_selector('div.location-navi > ul > li.on > a').text\n"
     ]
    }
   ],
   "source": [
    "#3. 상품의 이름정보 수집\n",
    "title = driver.find_element_by_css_selector('h1.itemtit').text\n",
    "#3.1 상품의 가격정보 수집\n",
    "price = driver.find_element_by_css_selector('strong.price_real').text\n",
    "#3.2 상품의 카테고리(마지막) 수집\n",
    "cate = driver.find_element_by_css_selector('div.location-navi > ul > li.on > a').text"
   ]
  },
  {
   "cell_type": "code",
   "execution_count": 20,
   "id": "b4bae576",
   "metadata": {},
   "outputs": [],
   "source": [
    "#4. 페이지 뒤로가기 실행\n",
    "driver.back()"
   ]
  },
  {
   "cell_type": "code",
   "execution_count": 3,
   "id": "19f32e3a",
   "metadata": {},
   "outputs": [
    {
     "name": "stderr",
     "output_type": "stream",
     "text": [
      "C:\\Users\\smhrd\\AppData\\Local\\Temp/ipykernel_3612/2717334697.py:11: DeprecationWarning: find_elements_by_css_selector is deprecated. Please use find_elements(by=By.CSS_SELECTOR, value=css_selector) instead\n",
      "  btn = driver.find_elements_by_css_selector('img.lazy')\n",
      "C:\\Users\\smhrd\\AppData\\Local\\Temp/ipykernel_3612/2717334697.py:15: DeprecationWarning: find_element_by_css_selector is deprecated. Please use find_element(by=By.CSS_SELECTOR, value=css_selector) instead\n",
      "  title = driver.find_element_by_css_selector('h1.itemtit').text\n",
      "C:\\Users\\smhrd\\AppData\\Local\\Temp/ipykernel_3612/2717334697.py:16: DeprecationWarning: find_element_by_css_selector is deprecated. Please use find_element(by=By.CSS_SELECTOR, value=css_selector) instead\n",
      "  price = driver.find_element_by_css_selector('strong.price_real').text\n",
      "C:\\Users\\smhrd\\AppData\\Local\\Temp/ipykernel_3612/2717334697.py:17: DeprecationWarning: find_element_by_css_selector is deprecated. Please use find_element(by=By.CSS_SELECTOR, value=css_selector) instead\n",
      "  cate = driver.find_element_by_css_selector('body > div.location-navi > ul > li:nth-child(3) > a').text\n"
     ]
    },
    {
     "ename": "WebDriverException",
     "evalue": "Message: chrome not reachable\n  (Session info: chrome=100.0.4896.127)\nStacktrace:\nBacktrace:\n\tOrdinal0 [0x003D7413+2389011]\n\tOrdinal0 [0x00369F61+1941345]\n\tOrdinal0 [0x0025C520+836896]\n\tOrdinal0 [0x00250682+788098]\n\tOrdinal0 [0x00250EB8+790200]\n\tOrdinal0 [0x00252752+796498]\n\tOrdinal0 [0x0024C0D9+770265]\n\tOrdinal0 [0x0025D9D0+842192]\n\tOrdinal0 [0x002B3AE2+1194722]\n\tOrdinal0 [0x002A3F66+1130342]\n\tOrdinal0 [0x0027E546+976198]\n\tOrdinal0 [0x0027F456+980054]\n\tGetHandleVerifier [0x00589632+1727522]\n\tGetHandleVerifier [0x0063BA4D+2457661]\n\tGetHandleVerifier [0x0046EB81+569713]\n\tGetHandleVerifier [0x0046DD76+566118]\n\tOrdinal0 [0x00370B2B+1968939]\n\tOrdinal0 [0x00375988+1989000]\n\tOrdinal0 [0x00375A75+1989237]\n\tOrdinal0 [0x0037ECB1+2026673]\n\tBaseThreadInitThunk [0x7601FA29+25]\n\tRtlGetAppContainerNamedObjectPath [0x778A7A7E+286]\n\tRtlGetAppContainerNamedObjectPath [0x778A7A4E+238]\n",
     "output_type": "error",
     "traceback": [
      "\u001b[1;31m---------------------------------------------------------------------------\u001b[0m",
      "\u001b[1;31mWebDriverException\u001b[0m                        Traceback (most recent call last)",
      "\u001b[1;32m~\\AppData\\Local\\Temp/ipykernel_3612/2717334697.py\u001b[0m in \u001b[0;36m<module>\u001b[1;34m\u001b[0m\n\u001b[0;32m     13\u001b[0m     \u001b[0mtime\u001b[0m\u001b[1;33m.\u001b[0m\u001b[0msleep\u001b[0m\u001b[1;33m(\u001b[0m\u001b[1;36m1\u001b[0m\u001b[1;33m)\u001b[0m\u001b[1;33m\u001b[0m\u001b[1;33m\u001b[0m\u001b[0m\n\u001b[0;32m     14\u001b[0m \u001b[1;33m\u001b[0m\u001b[0m\n\u001b[1;32m---> 15\u001b[1;33m     \u001b[0mtitle\u001b[0m \u001b[1;33m=\u001b[0m \u001b[0mdriver\u001b[0m\u001b[1;33m.\u001b[0m\u001b[0mfind_element_by_css_selector\u001b[0m\u001b[1;33m(\u001b[0m\u001b[1;34m'h1.itemtit'\u001b[0m\u001b[1;33m)\u001b[0m\u001b[1;33m.\u001b[0m\u001b[0mtext\u001b[0m\u001b[1;33m\u001b[0m\u001b[1;33m\u001b[0m\u001b[0m\n\u001b[0m\u001b[0;32m     16\u001b[0m     \u001b[0mprice\u001b[0m \u001b[1;33m=\u001b[0m \u001b[0mdriver\u001b[0m\u001b[1;33m.\u001b[0m\u001b[0mfind_element_by_css_selector\u001b[0m\u001b[1;33m(\u001b[0m\u001b[1;34m'strong.price_real'\u001b[0m\u001b[1;33m)\u001b[0m\u001b[1;33m.\u001b[0m\u001b[0mtext\u001b[0m\u001b[1;33m\u001b[0m\u001b[1;33m\u001b[0m\u001b[0m\n\u001b[0;32m     17\u001b[0m     \u001b[0mcate\u001b[0m \u001b[1;33m=\u001b[0m \u001b[0mdriver\u001b[0m\u001b[1;33m.\u001b[0m\u001b[0mfind_element_by_css_selector\u001b[0m\u001b[1;33m(\u001b[0m\u001b[1;34m'body > div.location-navi > ul > li:nth-child(3) > a'\u001b[0m\u001b[1;33m)\u001b[0m\u001b[1;33m.\u001b[0m\u001b[0mtext\u001b[0m\u001b[1;33m\u001b[0m\u001b[1;33m\u001b[0m\u001b[0m\n",
      "\u001b[1;32m~\\anaconda3\\lib\\site-packages\\selenium\\webdriver\\remote\\webdriver.py\u001b[0m in \u001b[0;36mfind_element_by_css_selector\u001b[1;34m(self, css_selector)\u001b[0m\n\u001b[0;32m    807\u001b[0m             \u001b[0mstacklevel\u001b[0m\u001b[1;33m=\u001b[0m\u001b[1;36m2\u001b[0m\u001b[1;33m,\u001b[0m\u001b[1;33m\u001b[0m\u001b[1;33m\u001b[0m\u001b[0m\n\u001b[0;32m    808\u001b[0m         )\n\u001b[1;32m--> 809\u001b[1;33m         \u001b[1;32mreturn\u001b[0m \u001b[0mself\u001b[0m\u001b[1;33m.\u001b[0m\u001b[0mfind_element\u001b[0m\u001b[1;33m(\u001b[0m\u001b[0mby\u001b[0m\u001b[1;33m=\u001b[0m\u001b[0mBy\u001b[0m\u001b[1;33m.\u001b[0m\u001b[0mCSS_SELECTOR\u001b[0m\u001b[1;33m,\u001b[0m \u001b[0mvalue\u001b[0m\u001b[1;33m=\u001b[0m\u001b[0mcss_selector\u001b[0m\u001b[1;33m)\u001b[0m\u001b[1;33m\u001b[0m\u001b[1;33m\u001b[0m\u001b[0m\n\u001b[0m\u001b[0;32m    810\u001b[0m \u001b[1;33m\u001b[0m\u001b[0m\n\u001b[0;32m    811\u001b[0m     \u001b[1;32mdef\u001b[0m \u001b[0mfind_elements_by_css_selector\u001b[0m\u001b[1;33m(\u001b[0m\u001b[0mself\u001b[0m\u001b[1;33m,\u001b[0m \u001b[0mcss_selector\u001b[0m\u001b[1;33m)\u001b[0m \u001b[1;33m->\u001b[0m \u001b[0mList\u001b[0m\u001b[1;33m[\u001b[0m\u001b[0mWebElement\u001b[0m\u001b[1;33m]\u001b[0m\u001b[1;33m:\u001b[0m\u001b[1;33m\u001b[0m\u001b[1;33m\u001b[0m\u001b[0m\n",
      "\u001b[1;32m~\\anaconda3\\lib\\site-packages\\selenium\\webdriver\\remote\\webdriver.py\u001b[0m in \u001b[0;36mfind_element\u001b[1;34m(self, by, value)\u001b[0m\n\u001b[0;32m   1246\u001b[0m             \u001b[0mvalue\u001b[0m \u001b[1;33m=\u001b[0m \u001b[1;34m'[name=\"%s\"]'\u001b[0m \u001b[1;33m%\u001b[0m \u001b[0mvalue\u001b[0m\u001b[1;33m\u001b[0m\u001b[1;33m\u001b[0m\u001b[0m\n\u001b[0;32m   1247\u001b[0m \u001b[1;33m\u001b[0m\u001b[0m\n\u001b[1;32m-> 1248\u001b[1;33m         return self.execute(Command.FIND_ELEMENT, {\n\u001b[0m\u001b[0;32m   1249\u001b[0m             \u001b[1;34m'using'\u001b[0m\u001b[1;33m:\u001b[0m \u001b[0mby\u001b[0m\u001b[1;33m,\u001b[0m\u001b[1;33m\u001b[0m\u001b[1;33m\u001b[0m\u001b[0m\n\u001b[0;32m   1250\u001b[0m             'value': value})['value']\n",
      "\u001b[1;32m~\\anaconda3\\lib\\site-packages\\selenium\\webdriver\\remote\\webdriver.py\u001b[0m in \u001b[0;36mexecute\u001b[1;34m(self, driver_command, params)\u001b[0m\n\u001b[0;32m    423\u001b[0m         \u001b[0mresponse\u001b[0m \u001b[1;33m=\u001b[0m \u001b[0mself\u001b[0m\u001b[1;33m.\u001b[0m\u001b[0mcommand_executor\u001b[0m\u001b[1;33m.\u001b[0m\u001b[0mexecute\u001b[0m\u001b[1;33m(\u001b[0m\u001b[0mdriver_command\u001b[0m\u001b[1;33m,\u001b[0m \u001b[0mparams\u001b[0m\u001b[1;33m)\u001b[0m\u001b[1;33m\u001b[0m\u001b[1;33m\u001b[0m\u001b[0m\n\u001b[0;32m    424\u001b[0m         \u001b[1;32mif\u001b[0m \u001b[0mresponse\u001b[0m\u001b[1;33m:\u001b[0m\u001b[1;33m\u001b[0m\u001b[1;33m\u001b[0m\u001b[0m\n\u001b[1;32m--> 425\u001b[1;33m             \u001b[0mself\u001b[0m\u001b[1;33m.\u001b[0m\u001b[0merror_handler\u001b[0m\u001b[1;33m.\u001b[0m\u001b[0mcheck_response\u001b[0m\u001b[1;33m(\u001b[0m\u001b[0mresponse\u001b[0m\u001b[1;33m)\u001b[0m\u001b[1;33m\u001b[0m\u001b[1;33m\u001b[0m\u001b[0m\n\u001b[0m\u001b[0;32m    426\u001b[0m             response['value'] = self._unwrap_value(\n\u001b[0;32m    427\u001b[0m                 response.get('value', None))\n",
      "\u001b[1;32m~\\anaconda3\\lib\\site-packages\\selenium\\webdriver\\remote\\errorhandler.py\u001b[0m in \u001b[0;36mcheck_response\u001b[1;34m(self, response)\u001b[0m\n\u001b[0;32m    245\u001b[0m                 \u001b[0malert_text\u001b[0m \u001b[1;33m=\u001b[0m \u001b[0mvalue\u001b[0m\u001b[1;33m[\u001b[0m\u001b[1;34m'alert'\u001b[0m\u001b[1;33m]\u001b[0m\u001b[1;33m.\u001b[0m\u001b[0mget\u001b[0m\u001b[1;33m(\u001b[0m\u001b[1;34m'text'\u001b[0m\u001b[1;33m)\u001b[0m\u001b[1;33m\u001b[0m\u001b[1;33m\u001b[0m\u001b[0m\n\u001b[0;32m    246\u001b[0m             \u001b[1;32mraise\u001b[0m \u001b[0mexception_class\u001b[0m\u001b[1;33m(\u001b[0m\u001b[0mmessage\u001b[0m\u001b[1;33m,\u001b[0m \u001b[0mscreen\u001b[0m\u001b[1;33m,\u001b[0m \u001b[0mstacktrace\u001b[0m\u001b[1;33m,\u001b[0m \u001b[0malert_text\u001b[0m\u001b[1;33m)\u001b[0m  \u001b[1;31m# type: ignore[call-arg]  # mypy is not smart enough here\u001b[0m\u001b[1;33m\u001b[0m\u001b[1;33m\u001b[0m\u001b[0m\n\u001b[1;32m--> 247\u001b[1;33m         \u001b[1;32mraise\u001b[0m \u001b[0mexception_class\u001b[0m\u001b[1;33m(\u001b[0m\u001b[0mmessage\u001b[0m\u001b[1;33m,\u001b[0m \u001b[0mscreen\u001b[0m\u001b[1;33m,\u001b[0m \u001b[0mstacktrace\u001b[0m\u001b[1;33m)\u001b[0m\u001b[1;33m\u001b[0m\u001b[1;33m\u001b[0m\u001b[0m\n\u001b[0m\u001b[0;32m    248\u001b[0m \u001b[1;33m\u001b[0m\u001b[0m\n\u001b[0;32m    249\u001b[0m     \u001b[1;32mdef\u001b[0m \u001b[0m_value_or_default\u001b[0m\u001b[1;33m(\u001b[0m\u001b[0mself\u001b[0m\u001b[1;33m,\u001b[0m \u001b[0mobj\u001b[0m\u001b[1;33m:\u001b[0m \u001b[0mMapping\u001b[0m\u001b[1;33m[\u001b[0m\u001b[0m_KT\u001b[0m\u001b[1;33m,\u001b[0m \u001b[0m_VT\u001b[0m\u001b[1;33m]\u001b[0m\u001b[1;33m,\u001b[0m \u001b[0mkey\u001b[0m\u001b[1;33m:\u001b[0m \u001b[0m_KT\u001b[0m\u001b[1;33m,\u001b[0m \u001b[0mdefault\u001b[0m\u001b[1;33m:\u001b[0m \u001b[0m_VT\u001b[0m\u001b[1;33m)\u001b[0m \u001b[1;33m->\u001b[0m \u001b[0m_VT\u001b[0m\u001b[1;33m:\u001b[0m\u001b[1;33m\u001b[0m\u001b[1;33m\u001b[0m\u001b[0m\n",
      "\u001b[1;31mWebDriverException\u001b[0m: Message: chrome not reachable\n  (Session info: chrome=100.0.4896.127)\nStacktrace:\nBacktrace:\n\tOrdinal0 [0x003D7413+2389011]\n\tOrdinal0 [0x00369F61+1941345]\n\tOrdinal0 [0x0025C520+836896]\n\tOrdinal0 [0x00250682+788098]\n\tOrdinal0 [0x00250EB8+790200]\n\tOrdinal0 [0x00252752+796498]\n\tOrdinal0 [0x0024C0D9+770265]\n\tOrdinal0 [0x0025D9D0+842192]\n\tOrdinal0 [0x002B3AE2+1194722]\n\tOrdinal0 [0x002A3F66+1130342]\n\tOrdinal0 [0x0027E546+976198]\n\tOrdinal0 [0x0027F456+980054]\n\tGetHandleVerifier [0x00589632+1727522]\n\tGetHandleVerifier [0x0063BA4D+2457661]\n\tGetHandleVerifier [0x0046EB81+569713]\n\tGetHandleVerifier [0x0046DD76+566118]\n\tOrdinal0 [0x00370B2B+1968939]\n\tOrdinal0 [0x00375988+1989000]\n\tOrdinal0 [0x00375A75+1989237]\n\tOrdinal0 [0x0037ECB1+2026673]\n\tBaseThreadInitThunk [0x7601FA29+25]\n\tRtlGetAppContainerNamedObjectPath [0x778A7A7E+286]\n\tRtlGetAppContainerNamedObjectPath [0x778A7A4E+238]\n"
     ]
    }
   ],
   "source": [
    "# 전체 카테고리 수집 \n",
    "driver = wb.Chrome()\n",
    "driver.get('http://corners.gmarket.co.kr/Bestsellers')\n",
    "time.sleep(1)\n",
    "\n",
    "title_list = []\n",
    "price_list = []\n",
    "cate_list = []\n",
    "\n",
    "for i in range(10) : \n",
    "    btn = driver.find_elements_by_css_selector('img.lazy')\n",
    "    btn[i].click()\n",
    "    time.sleep(1)\n",
    "    \n",
    "    title = driver.find_element_by_css_selector('h1.itemtit').text\n",
    "    price = driver.find_element_by_css_selector('strong.price_real').text\n",
    "    cate = driver.find_element_by_css_selector('body > div.location-navi > ul > li:nth-child(3) > a').text \n",
    "    \n",
    "    title_list.append(title)\n",
    "    price_list.append(price)    \n",
    "    cate_list.append(cate)\n",
    "    \n",
    "    driver.back()\n",
    "    time.sleep(1)\n",
    "\n",
    "#데이터 수집단계 \n",
    "dic = {\"상품명\":title_list, \"가격\":price_list, \"카테고리\":cate_list}\n",
    "gmarket = pd.DataFrame(dic)\n",
    "gmarket\n",
    "gmarket.to_csv(\"지마켓베스트.csv\", encoding=\"euc-kr\")\n",
    "#데이터 활용단계 \n"
   ]
  },
  {
   "cell_type": "code",
   "execution_count": 80,
   "id": "8d716c43",
   "metadata": {},
   "outputs": [
    {
     "data": {
      "text/html": [
       "<div>\n",
       "<style scoped>\n",
       "    .dataframe tbody tr th:only-of-type {\n",
       "        vertical-align: middle;\n",
       "    }\n",
       "\n",
       "    .dataframe tbody tr th {\n",
       "        vertical-align: top;\n",
       "    }\n",
       "\n",
       "    .dataframe thead th {\n",
       "        text-align: right;\n",
       "    }\n",
       "</style>\n",
       "<table border=\"1\" class=\"dataframe\">\n",
       "  <thead>\n",
       "    <tr style=\"text-align: right;\">\n",
       "      <th></th>\n",
       "      <th>상품명</th>\n",
       "      <th>가격</th>\n",
       "      <th>카테고리</th>\n",
       "    </tr>\n",
       "  </thead>\n",
       "  <tbody>\n",
       "    <tr>\n",
       "      <th>0</th>\n",
       "      <td>풀무원 얇은피만두 10봉 노엣지 피자 6판 골라담기</td>\n",
       "      <td>28,500원</td>\n",
       "      <td>만두</td>\n",
       "    </tr>\n",
       "    <tr>\n",
       "      <th>1</th>\n",
       "      <td>올반 꿔바로우 1.2kg x 2팩 (중국식 탕수육)</td>\n",
       "      <td>22,500원</td>\n",
       "      <td>냉동/즉석식품</td>\n",
       "    </tr>\n",
       "    <tr>\n",
       "      <th>2</th>\n",
       "      <td>(신세계강남점)휠라키즈 반팔티셔츠 균일가 15000</td>\n",
       "      <td>15,000원</td>\n",
       "      <td>유아동티셔츠</td>\n",
       "    </tr>\n",
       "    <tr>\n",
       "      <th>3</th>\n",
       "      <td>피코크 떡갈비 (450g X 3팩)</td>\n",
       "      <td>15,500원</td>\n",
       "      <td>떡갈비</td>\n",
       "    </tr>\n",
       "    <tr>\n",
       "      <th>4</th>\n",
       "      <td>체험팩 로스터리R테트라200ml 라떼6팩+아메리카노6팩</td>\n",
       "      <td>7,900원</td>\n",
       "      <td>커피음료</td>\n",
       "    </tr>\n",
       "    <tr>\n",
       "      <th>5</th>\n",
       "      <td>무료반품+22% TANIZ 여름 블로퍼/슬링백/로퍼/운동화</td>\n",
       "      <td>11,000원</td>\n",
       "      <td>블로퍼</td>\n",
       "    </tr>\n",
       "    <tr>\n",
       "      <th>6</th>\n",
       "      <td>(10%+12%+무료반품)여름까지 입는 쿨소재/바지/추리닝</td>\n",
       "      <td>6,900원</td>\n",
       "      <td>라운드넥반팔티</td>\n",
       "    </tr>\n",
       "    <tr>\n",
       "      <th>7</th>\n",
       "      <td>에너자이저 기획 패밀리팩 알카라인 건전지 AA/AAA 48입 모음</td>\n",
       "      <td>18,900원</td>\n",
       "      <td>건전지</td>\n",
       "    </tr>\n",
       "    <tr>\n",
       "      <th>8</th>\n",
       "      <td>성주 꿀 참외 3kg(랜덤과)/품질보장/무료반품</td>\n",
       "      <td>17,900원</td>\n",
       "      <td>참외</td>\n",
       "    </tr>\n",
       "    <tr>\n",
       "      <th>9</th>\n",
       "      <td>장마 알뜰 2kg 안동마 진주마 생마 참마 산마</td>\n",
       "      <td>12,500원</td>\n",
       "      <td>마/야콘</td>\n",
       "    </tr>\n",
       "  </tbody>\n",
       "</table>\n",
       "</div>"
      ],
      "text/plain": [
       "                                    상품명       가격     카테고리\n",
       "0          풀무원 얇은피만두 10봉 노엣지 피자 6판 골라담기  28,500원       만두\n",
       "1          올반 꿔바로우 1.2kg x 2팩 (중국식 탕수육)  22,500원  냉동/즉석식품\n",
       "2          (신세계강남점)휠라키즈 반팔티셔츠 균일가 15000  15,000원   유아동티셔츠\n",
       "3                   피코크 떡갈비 (450g X 3팩)  15,500원      떡갈비\n",
       "4        체험팩 로스터리R테트라200ml 라떼6팩+아메리카노6팩   7,900원     커피음료\n",
       "5      무료반품+22% TANIZ 여름 블로퍼/슬링백/로퍼/운동화  11,000원      블로퍼\n",
       "6      (10%+12%+무료반품)여름까지 입는 쿨소재/바지/추리닝   6,900원  라운드넥반팔티\n",
       "7  에너자이저 기획 패밀리팩 알카라인 건전지 AA/AAA 48입 모음  18,900원      건전지\n",
       "8            성주 꿀 참외 3kg(랜덤과)/품질보장/무료반품  17,900원       참외\n",
       "9            장마 알뜰 2kg 안동마 진주마 생마 참마 산마  12,500원     마/야콘"
      ]
     },
     "execution_count": 80,
     "metadata": {},
     "output_type": "execute_result"
    }
   ],
   "source": [
    "gmarket"
   ]
  },
  {
   "cell_type": "markdown",
   "id": "43e29e13",
   "metadata": {},
   "source": [
    "# 브라우저가 안보이는 헤드리스 작업"
   ]
  },
  {
   "cell_type": "code",
   "execution_count": 82,
   "id": "2a4bb17c",
   "metadata": {},
   "outputs": [],
   "source": [
    "options = wb.ChromeOptions()\n",
    "options.add_argument('headless')\n",
    "options.add_argument('window-size=1920x1080')\n",
    "options.add_argument(\"disable-gpu\")"
   ]
  },
  {
   "cell_type": "code",
   "execution_count": 93,
   "id": "51bc7ad0",
   "metadata": {},
   "outputs": [
    {
     "name": "stderr",
     "output_type": "stream",
     "text": [
      "C:\\Users\\smhrd\\AppData\\Local\\Temp/ipykernel_11072/1730636919.py:1: DeprecationWarning: executable_path has been deprecated, please pass in a Service object\n",
      "  driver = wb.Chrome(\"C:/Users/smhrd/Crawling/chromedriver.exe\",chrome_options = options)\n",
      "C:\\Users\\smhrd\\AppData\\Local\\Temp/ipykernel_11072/1730636919.py:1: DeprecationWarning: use options instead of chrome_options\n",
      "  driver = wb.Chrome(\"C:/Users/smhrd/Crawling/chromedriver.exe\",chrome_options = options)\n",
      "C:\\Users\\smhrd\\AppData\\Local\\Temp/ipykernel_11072/1730636919.py:9: DeprecationWarning: find_elements_by_css_selector is deprecated. Please use find_elements(by=By.CSS_SELECTOR, value=css_selector) instead\n",
      "  img = driver.find_elements_by_css_selector(\"img.lazy\")\n",
      "C:\\Users\\smhrd\\AppData\\Local\\Temp/ipykernel_11072/1730636919.py:13: DeprecationWarning: find_element_by_css_selector is deprecated. Please use find_element(by=By.CSS_SELECTOR, value=css_selector) instead\n",
      "  title = driver.find_element_by_css_selector(\"h1.itemtit\").text\n",
      "C:\\Users\\smhrd\\AppData\\Local\\Temp/ipykernel_11072/1730636919.py:15: DeprecationWarning: find_element_by_css_selector is deprecated. Please use find_element(by=By.CSS_SELECTOR, value=css_selector) instead\n",
      "  price = driver.find_element_by_css_selector(\"strong.price_real\").text\n",
      "C:\\Users\\smhrd\\AppData\\Local\\Temp/ipykernel_11072/1730636919.py:17: DeprecationWarning: find_element_by_css_selector is deprecated. Please use find_element(by=By.CSS_SELECTOR, value=css_selector) instead\n",
      "  cate = driver.find_element_by_css_selector(\"li.on > a\").text\n"
     ]
    },
    {
     "data": {
      "text/html": [
       "<div>\n",
       "<style scoped>\n",
       "    .dataframe tbody tr th:only-of-type {\n",
       "        vertical-align: middle;\n",
       "    }\n",
       "\n",
       "    .dataframe tbody tr th {\n",
       "        vertical-align: top;\n",
       "    }\n",
       "\n",
       "    .dataframe thead th {\n",
       "        text-align: right;\n",
       "    }\n",
       "</style>\n",
       "<table border=\"1\" class=\"dataframe\">\n",
       "  <thead>\n",
       "    <tr style=\"text-align: right;\">\n",
       "      <th></th>\n",
       "      <th>상품명</th>\n",
       "      <th>가격</th>\n",
       "      <th>카테고리</th>\n",
       "    </tr>\n",
       "  </thead>\n",
       "  <tbody>\n",
       "    <tr>\n",
       "      <th>0</th>\n",
       "      <td>피코크 떡갈비 (450g X 3팩)</td>\n",
       "      <td>15,500원</td>\n",
       "      <td>떡갈비</td>\n",
       "    </tr>\n",
       "    <tr>\n",
       "      <th>1</th>\n",
       "      <td>풀무원 얇은피만두 10봉 노엣지 피자 6판 골라담기</td>\n",
       "      <td>28,500원</td>\n",
       "      <td>만두</td>\n",
       "    </tr>\n",
       "    <tr>\n",
       "      <th>2</th>\n",
       "      <td>올반 꿔바로우 1.2kg x 2팩 (중국식 탕수육)</td>\n",
       "      <td>22,500원</td>\n",
       "      <td>냉동/즉석식품</td>\n",
       "    </tr>\n",
       "    <tr>\n",
       "      <th>3</th>\n",
       "      <td>어촌마을 감태 오일 파스타 + 키조개 관자 리조또 SET</td>\n",
       "      <td>16,900원</td>\n",
       "      <td>기타간편식</td>\n",
       "    </tr>\n",
       "    <tr>\n",
       "      <th>4</th>\n",
       "      <td>체험팩 로스터리R테트라200ml 라떼6팩+아메리카노6팩</td>\n",
       "      <td>7,900원</td>\n",
       "      <td>커피음료</td>\n",
       "    </tr>\n",
       "    <tr>\n",
       "      <th>5</th>\n",
       "      <td>장마 알뜰 2kg 안동마 진주마 생마 참마 산마</td>\n",
       "      <td>12,500원</td>\n",
       "      <td>마/야콘</td>\n",
       "    </tr>\n",
       "    <tr>\n",
       "      <th>6</th>\n",
       "      <td>무료반품+22% TANIZ 여름 블로퍼/슬링백/로퍼/운동화</td>\n",
       "      <td>11,000원</td>\n",
       "      <td>블로퍼</td>\n",
       "    </tr>\n",
       "    <tr>\n",
       "      <th>7</th>\n",
       "      <td>고등어 120-140g x 10팩/국내산</td>\n",
       "      <td>13,900원</td>\n",
       "      <td>생선/해산물/어패류</td>\n",
       "    </tr>\n",
       "    <tr>\n",
       "      <th>8</th>\n",
       "      <td>블랙야크 남녀공용 2개셋트 반팔라운드티 L에코트윈티셔츠S</td>\n",
       "      <td>25,140원</td>\n",
       "      <td>남성등산티셔츠</td>\n",
       "    </tr>\n",
       "    <tr>\n",
       "      <th>9</th>\n",
       "      <td>네로 15S-EQ3043AU 48만 한정수량 R5/8G/256G 노트북</td>\n",
       "      <td>554,000원</td>\n",
       "      <td>노트북</td>\n",
       "    </tr>\n",
       "  </tbody>\n",
       "</table>\n",
       "</div>"
      ],
      "text/plain": [
       "                                       상품명        가격        카테고리\n",
       "0                      피코크 떡갈비 (450g X 3팩)   15,500원         떡갈비\n",
       "1             풀무원 얇은피만두 10봉 노엣지 피자 6판 골라담기   28,500원          만두\n",
       "2             올반 꿔바로우 1.2kg x 2팩 (중국식 탕수육)   22,500원     냉동/즉석식품\n",
       "3          어촌마을 감태 오일 파스타 + 키조개 관자 리조또 SET   16,900원       기타간편식\n",
       "4           체험팩 로스터리R테트라200ml 라떼6팩+아메리카노6팩    7,900원        커피음료\n",
       "5               장마 알뜰 2kg 안동마 진주마 생마 참마 산마   12,500원        마/야콘\n",
       "6         무료반품+22% TANIZ 여름 블로퍼/슬링백/로퍼/운동화   11,000원         블로퍼\n",
       "7                   고등어 120-140g x 10팩/국내산   13,900원  생선/해산물/어패류\n",
       "8          블랙야크 남녀공용 2개셋트 반팔라운드티 L에코트윈티셔츠S   25,140원     남성등산티셔츠\n",
       "9  네로 15S-EQ3043AU 48만 한정수량 R5/8G/256G 노트북  554,000원         노트북"
      ]
     },
     "execution_count": 93,
     "metadata": {},
     "output_type": "execute_result"
    }
   ],
   "source": [
    "driver = wb.Chrome(\"C:/Users/smhrd/Crawling/chromedriver.exe\",chrome_options = options)\n",
    "driver.get(\"http://corners.gmarket.co.kr/Bestsellers\")\n",
    "time.sleep(1)\n",
    "# 순수한 글자정보만 수집할 리스트 제작\n",
    "titleList = []\n",
    "priceList = [] \n",
    "cateList = []\n",
    "for i in range(10) :\n",
    "    img = driver.find_elements_by_css_selector(\"img.lazy\")\n",
    "    img[i].click()\n",
    "    time.sleep(1)\n",
    "    \n",
    "    title = driver.find_element_by_css_selector(\"h1.itemtit\").text\n",
    "    titleList.append(title)\n",
    "    price = driver.find_element_by_css_selector(\"strong.price_real\").text\n",
    "    priceList.append(price)\n",
    "    cate = driver.find_element_by_css_selector(\"li.on > a\").text\n",
    "    cateList.append(cate)\n",
    "    \n",
    "    driver.back()\n",
    "    time.sleep(1)\n",
    "# ----데이터 수집단계----\n",
    "dic = {\"상품명\" : titleList, \"가격\" : priceList, \"카테고리\" :cateList}\n",
    "gmarket = pd.DataFrame(dic)\n",
    "gmarket\n",
    "# ----데이터 활용단계----"
   ]
  },
  {
   "cell_type": "code",
   "execution_count": null,
   "id": "799b74b0",
   "metadata": {},
   "outputs": [],
   "source": []
  },
  {
   "cell_type": "code",
   "execution_count": null,
   "id": "2893095c",
   "metadata": {},
   "outputs": [],
   "source": []
  },
  {
   "cell_type": "code",
   "execution_count": null,
   "id": "774ff799",
   "metadata": {},
   "outputs": [],
   "source": []
  },
  {
   "cell_type": "code",
   "execution_count": null,
   "id": "c953b3cb",
   "metadata": {},
   "outputs": [],
   "source": []
  },
  {
   "cell_type": "code",
   "execution_count": null,
   "id": "070f0400",
   "metadata": {},
   "outputs": [],
   "source": []
  },
  {
   "cell_type": "code",
   "execution_count": null,
   "id": "c775563e",
   "metadata": {},
   "outputs": [],
   "source": []
  },
  {
   "cell_type": "code",
   "execution_count": null,
   "id": "f221d6f4",
   "metadata": {},
   "outputs": [],
   "source": []
  },
  {
   "cell_type": "code",
   "execution_count": null,
   "id": "e8aff880",
   "metadata": {},
   "outputs": [],
   "source": []
  },
  {
   "cell_type": "code",
   "execution_count": null,
   "id": "63eaa1d1",
   "metadata": {},
   "outputs": [],
   "source": []
  },
  {
   "cell_type": "code",
   "execution_count": null,
   "id": "417be947",
   "metadata": {},
   "outputs": [],
   "source": []
  },
  {
   "cell_type": "code",
   "execution_count": null,
   "id": "97fd3017",
   "metadata": {},
   "outputs": [],
   "source": []
  },
  {
   "cell_type": "code",
   "execution_count": null,
   "id": "8df38e94",
   "metadata": {},
   "outputs": [],
   "source": []
  },
  {
   "cell_type": "code",
   "execution_count": null,
   "id": "5905f2f6",
   "metadata": {},
   "outputs": [],
   "source": []
  },
  {
   "cell_type": "code",
   "execution_count": null,
   "id": "79eeff7b",
   "metadata": {},
   "outputs": [],
   "source": []
  }
 ],
 "metadata": {
  "kernelspec": {
   "display_name": "Python 3 (ipykernel)",
   "language": "python",
   "name": "python3"
  },
  "language_info": {
   "codemirror_mode": {
    "name": "ipython",
    "version": 3
   },
   "file_extension": ".py",
   "mimetype": "text/x-python",
   "name": "python",
   "nbconvert_exporter": "python",
   "pygments_lexer": "ipython3",
   "version": "3.9.7"
  }
 },
 "nbformat": 4,
 "nbformat_minor": 5
}
