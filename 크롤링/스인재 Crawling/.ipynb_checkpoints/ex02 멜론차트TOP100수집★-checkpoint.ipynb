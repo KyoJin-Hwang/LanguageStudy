{
 "cells": [
  {
   "cell_type": "markdown",
   "id": "939ca67d",
   "metadata": {},
   "source": [
    "### 데이터 준비단계!"
   ]
  },
  {
   "cell_type": "code",
   "execution_count": 2,
   "id": "b24ec7f1",
   "metadata": {},
   "outputs": [],
   "source": [
    "import requests as req\n",
    "from bs4 import BeautifulSoup as bs"
   ]
  },
  {
   "cell_type": "code",
   "execution_count": 5,
   "id": "db5b381a",
   "metadata": {},
   "outputs": [
    {
     "data": {
      "text/plain": [
       "<Response [406]>"
      ]
     },
     "execution_count": 5,
     "metadata": {},
     "output_type": "execute_result"
    }
   ],
   "source": [
    "req.get(\"https://www.melon.com/chart/\")"
   ]
  },
  {
   "cell_type": "code",
   "execution_count": 7,
   "id": "aec786f6",
   "metadata": {},
   "outputs": [],
   "source": [
    "h = {\"User-Agent\": \"Mozilla/5.0 (Windows NT 10.0; Win64; x64) AppleWebKit/537.36 (KHTML, like Gecko) Chrome/100.0.4896.127 Safari/537.36\"}"
   ]
  },
  {
   "cell_type": "code",
   "execution_count": 9,
   "id": "28ec23a2",
   "metadata": {},
   "outputs": [],
   "source": [
    "res = req.get(\"https://www.melon.com/chart/\", headers =h)"
   ]
  },
  {
   "cell_type": "code",
   "execution_count": 11,
   "id": "8b79422b",
   "metadata": {},
   "outputs": [],
   "source": [
    "soup = bs(res.text, 'lxml')"
   ]
  },
  {
   "cell_type": "markdown",
   "id": "1c4d960d",
   "metadata": {},
   "source": [
    "### 데이터 수집단계!"
   ]
  },
  {
   "cell_type": "code",
   "execution_count": 23,
   "id": "dda7c567",
   "metadata": {},
   "outputs": [],
   "source": [
    "#1. 노래제목 수집\n",
    "# *1. 내가 수집하고자 하는 요소가 구분(id,class)없는 경웅네ㅡㄴ\n",
    "# * 그 요소를 포함하고 있는 바로 위의 부모요소를 접근\n",
    "# * 주의점! 부모요소 또한 구분자가 없는 경우에는 있는 부모 까지 검사\n",
    "# * 클래스 값 중간에 공백이 있는 경우 = 클래스가 복수개\n",
    "# * 해결방법 공백을 지우고 , 을 통해서 클래스값을 이어준다!\n",
    "song = soup.select('div.ellipsis.rank01 > span > a')"
   ]
  },
  {
   "cell_type": "code",
   "execution_count": 24,
   "id": "04aa2af1",
   "metadata": {},
   "outputs": [
    {
     "data": {
      "text/plain": [
       "100"
      ]
     },
     "execution_count": 24,
     "metadata": {},
     "output_type": "execute_result"
    }
   ],
   "source": [
    "len(song)"
   ]
  },
  {
   "cell_type": "code",
   "execution_count": 48,
   "id": "1bf54b66",
   "metadata": {},
   "outputs": [],
   "source": [
    "singer = soup.select('div.ellipsis.rank02 > span')"
   ]
  },
  {
   "cell_type": "code",
   "execution_count": 51,
   "id": "0a8731ea",
   "metadata": {},
   "outputs": [
    {
     "data": {
      "text/plain": [
       "100"
      ]
     },
     "execution_count": 51,
     "metadata": {},
     "output_type": "execute_result"
    }
   ],
   "source": [
    "# 개수가 정해져있는 데이터를 수집할 때는\n",
    "# 개수가 맞는지 항상 체크\n",
    "len(singer)"
   ]
  },
  {
   "cell_type": "code",
   "execution_count": 50,
   "id": "274991fc",
   "metadata": {
    "collapsed": true
   },
   "outputs": [
    {
     "name": "stdout",
     "output_type": "stream",
     "text": [
      "BIGBANG (빅뱅)\n",
      "IVE (아이브)\n",
      "(여자)아이들\n",
      "Red Velvet (레드벨벳)\n",
      "멜로망스\n",
      "임영웅\n",
      "박재범\n",
      "김민석 (멜로망스)\n",
      "임영웅\n",
      "태연 (TAEYEON)\n",
      "임영웅\n",
      "MSG워너비(M.O.M)\n",
      "BE'O (비오)\n",
      "임영웅\n",
      "IVE (아이브)\n",
      "임영웅\n",
      "임영웅\n",
      "경서예지, 전건호\n",
      "볼빨간사춘기\n",
      "임영웅\n",
      "STAYC(스테이씨)\n",
      "이무진\n",
      "임영웅\n",
      "YENA (최예나)\n",
      "케이시 (Kassy)\n",
      "임영웅\n",
      "The Kid LAROI, Justin Bieber\n",
      "원슈타인\n",
      "sokodomo\n",
      "아이유\n",
      "(여자)아이들\n",
      "오마이걸 (OH MY GIRL)\n",
      "아이유\n",
      "aespa\n",
      "BE'O (비오)\n",
      "GOT the beat\n",
      "임영웅\n",
      "NCT DREAM\n",
      "주호\n",
      "태연 (TAEYEON)\n",
      "주시크 (Joosiq)\n",
      "한동근\n",
      "방탄소년단\n",
      "탑현\n",
      "BE'O (비오)\n",
      "폴킴\n",
      "방탄소년단\n",
      "휘인 (Whee In)\n",
      "아이유\n",
      "GAYLE\n",
      "자우림\n",
      "이무진\n",
      "세븐틴\n",
      "주시크 (Joosiq)\n",
      "MSG워너비(M.O.M)\n",
      "김나영\n",
      "방탄소년단\n",
      "aespa\n",
      "aespa\n",
      "디핵 (D-Hack), PATEKO (파테코)\n",
      "방탄소년단\n",
      "HIGH4 (하이포), 아이유\n",
      "볼빨간사춘기\n",
      "아이유\n",
      "Charlie Puth\n",
      "아이유\n",
      "태일 (TAEIL)\n",
      "아이유\n",
      "마크툽 (MAKTUB)\n",
      "Ed Sheeran\n",
      "성시경\n",
      "이예준\n",
      "BE'O (비오)\n",
      "폴킴\n",
      "Coldplay, 방탄소년단\n",
      "베이식 (Basick)\n",
      "경서\n",
      "호미들\n",
      "Justin Bieber\n",
      "멜로망스\n",
      "오마이걸 (OH MY GIRL)\n",
      "헤이즈 (Heize)\n",
      "BIG Naughty (서동현)\n",
      "10CM\n",
      "하이라이트 (Highlight)\n",
      "AKMU (악뮤)\n",
      "버스커 버스커\n",
      "브레이브걸스\n",
      "이승윤\n",
      "아이유\n",
      "AKMU (악뮤)\n",
      "벤\n",
      "Kelly Clarkson\n",
      "태연 (TAEYEON)\n",
      "제시 (Jessi)\n",
      "비비 (BIBI)\n",
      "V\n",
      "로꼬, 유주 (YUJU)\n",
      "장범준\n",
      "임창정\n"
     ]
    }
   ],
   "source": [
    "for i in singer:\n",
    "    print(i.text)"
   ]
  },
  {
   "cell_type": "code",
   "execution_count": 52,
   "id": "de14f4e8",
   "metadata": {
    "collapsed": true
   },
   "outputs": [
    {
     "data": {
      "text/plain": [
       "[<span class=\"checkEllipsis\" style=\"display:none\"><a href=\"javascript:melon.link.goArtistDetail('198094');\" title=\"BIGBANG (빅뱅) - 페이지 이동\">BIGBANG (빅뱅)</a></span>,\n",
       " <span class=\"checkEllipsis\" style=\"display:none\"><a href=\"javascript:melon.link.goArtistDetail('3055146');\" title=\"IVE (아이브) - 페이지 이동\">IVE (아이브)</a></span>,\n",
       " <span class=\"checkEllipsis\" style=\"display:none\"><a href=\"javascript:melon.link.goArtistDetail('2137482');\" title=\"(여자)아이들 - 페이지 이동\">(여자)아이들</a></span>,\n",
       " <span class=\"checkEllipsis\" style=\"display:none\"><a href=\"javascript:melon.link.goArtistDetail('780066');\" title=\"Red Velvet (레드벨벳) - 페이지 이동\">Red Velvet (레드벨벳)</a></span>,\n",
       " <span class=\"checkEllipsis\" style=\"display:none\"><a href=\"javascript:melon.link.goArtistDetail('839732');\" title=\"멜로망스 - 페이지 이동\">멜로망스</a></span>,\n",
       " <span class=\"checkEllipsis\" style=\"display:none\"><a href=\"javascript:melon.link.goArtistDetail('994944');\" title=\"임영웅 - 페이지 이동\">임영웅</a></span>,\n",
       " <span class=\"checkEllipsis\" style=\"display:none\"><a href=\"javascript:melon.link.goArtistDetail('443420');\" title=\"박재범 - 페이지 이동\">박재범</a></span>,\n",
       " <span class=\"checkEllipsis\" style=\"display:none\"><a href=\"javascript:melon.link.goArtistDetail('839736');\" title=\"김민석 (멜로망스) - 페이지 이동\">김민석 (멜로망스)</a></span>,\n",
       " <span class=\"checkEllipsis\" style=\"display:none\"><a href=\"javascript:melon.link.goArtistDetail('994944');\" title=\"임영웅 - 페이지 이동\">임영웅</a></span>,\n",
       " <span class=\"checkEllipsis\" style=\"display:none\"><a href=\"javascript:melon.link.goArtistDetail('236797');\" title=\"태연 (TAEYEON) - 페이지 이동\">태연 (TAEYEON)</a></span>,\n",
       " <span class=\"checkEllipsis\" style=\"display:none\"><a href=\"javascript:melon.link.goArtistDetail('994944');\" title=\"임영웅 - 페이지 이동\">임영웅</a></span>,\n",
       " <span class=\"checkEllipsis\" style=\"display:none\"><a href=\"javascript:melon.link.goArtistDetail('2939212');\" title=\"MSG워너비(M.O.M) - 페이지 이동\">MSG워너비(M.O.M)</a></span>,\n",
       " <span class=\"checkEllipsis\" style=\"display:none\"><a href=\"javascript:melon.link.goArtistDetail('2758756');\" title=\"BE'O (비오) - 페이지 이동\">BE'O (비오)</a></span>,\n",
       " <span class=\"checkEllipsis\" style=\"display:none\"><a href=\"javascript:melon.link.goArtistDetail('994944');\" title=\"임영웅 - 페이지 이동\">임영웅</a></span>,\n",
       " <span class=\"checkEllipsis\" style=\"display:none\"><a href=\"javascript:melon.link.goArtistDetail('3055146');\" title=\"IVE (아이브) - 페이지 이동\">IVE (아이브)</a></span>,\n",
       " <span class=\"checkEllipsis\" style=\"display:none\"><a href=\"javascript:melon.link.goArtistDetail('994944');\" title=\"임영웅 - 페이지 이동\">임영웅</a></span>,\n",
       " <span class=\"checkEllipsis\" style=\"display:none\"><a href=\"javascript:melon.link.goArtistDetail('994944');\" title=\"임영웅 - 페이지 이동\">임영웅</a></span>,\n",
       " <span class=\"checkEllipsis\" style=\"display:none\"><a href=\"javascript:melon.link.goArtistDetail('2863470');\" title=\"경서예지 - 페이지 이동\">경서예지</a>, <a href=\"javascript:melon.link.goArtistDetail('2739011');\" title=\"전건호 - 페이지 이동\">전건호</a></span>,\n",
       " <span class=\"checkEllipsis\" style=\"display:none\"><a href=\"javascript:melon.link.goArtistDetail('792022');\" title=\"볼빨간사춘기 - 페이지 이동\">볼빨간사춘기</a></span>,\n",
       " <span class=\"checkEllipsis\" style=\"display:none\"><a href=\"javascript:melon.link.goArtistDetail('994944');\" title=\"임영웅 - 페이지 이동\">임영웅</a></span>,\n",
       " <span class=\"checkEllipsis\" style=\"display:none\"><a href=\"javascript:melon.link.goArtistDetail('2899290');\" title=\"STAYC(스테이씨) - 페이지 이동\">STAYC(스테이씨)</a></span>,\n",
       " <span class=\"checkEllipsis\" style=\"display:none\"><a href=\"javascript:melon.link.goArtistDetail('2138620');\" title=\"이무진 - 페이지 이동\">이무진</a></span>,\n",
       " <span class=\"checkEllipsis\" style=\"display:none\"><a href=\"javascript:melon.link.goArtistDetail('994944');\" title=\"임영웅 - 페이지 이동\">임영웅</a></span>,\n",
       " <span class=\"checkEllipsis\" style=\"display:none\"><a href=\"javascript:melon.link.goArtistDetail('2399724');\" title=\"YENA (최예나) - 페이지 이동\">YENA (최예나)</a></span>,\n",
       " <span class=\"checkEllipsis\" style=\"display:none\"><a href=\"javascript:melon.link.goArtistDetail('858125');\" title=\"케이시 (Kassy) - 페이지 이동\">케이시 (Kassy)</a></span>,\n",
       " <span class=\"checkEllipsis\" style=\"display:none\"><a href=\"javascript:melon.link.goArtistDetail('994944');\" title=\"임영웅 - 페이지 이동\">임영웅</a></span>,\n",
       " <span class=\"checkEllipsis\" style=\"display:none\"><a href=\"javascript:melon.link.goArtistDetail('2743730');\" title=\"The Kid LAROI - 페이지 이동\">The Kid LAROI</a>, <a href=\"javascript:melon.link.goArtistDetail('420621');\" title=\"Justin Bieber - 페이지 이동\">Justin Bieber</a></span>,\n",
       " <span class=\"checkEllipsis\" style=\"display:none\"><a href=\"javascript:melon.link.goArtistDetail('1702472');\" title=\"원슈타인 - 페이지 이동\">원슈타인</a></span>,\n",
       " <span class=\"checkEllipsis\" style=\"display:none\"><a href=\"javascript:melon.link.goArtistDetail('2561475');\" title=\"sokodomo - 페이지 이동\">sokodomo</a></span>,\n",
       " <span class=\"checkEllipsis\" style=\"display:none\"><a href=\"javascript:melon.link.goArtistDetail('261143');\" title=\"아이유 - 페이지 이동\">아이유</a></span>,\n",
       " <span class=\"checkEllipsis\" style=\"display:none\"><a href=\"javascript:melon.link.goArtistDetail('2137482');\" title=\"(여자)아이들 - 페이지 이동\">(여자)아이들</a></span>,\n",
       " <span class=\"checkEllipsis\" style=\"display:none\"><a href=\"javascript:melon.link.goArtistDetail('857994');\" title=\"오마이걸 (OH MY GIRL) - 페이지 이동\">오마이걸 (OH MY GIRL)</a></span>,\n",
       " <span class=\"checkEllipsis\" style=\"display:none\"><a href=\"javascript:melon.link.goArtistDetail('261143');\" title=\"아이유 - 페이지 이동\">아이유</a></span>,\n",
       " <span class=\"checkEllipsis\" style=\"display:none\"><a href=\"javascript:melon.link.goArtistDetail('2899555');\" title=\"aespa - 페이지 이동\">aespa</a></span>,\n",
       " <span class=\"checkEllipsis\" style=\"display:none\"><a href=\"javascript:melon.link.goArtistDetail('2758756');\" title=\"BE'O (비오) - 페이지 이동\">BE'O (비오)</a></span>,\n",
       " <span class=\"checkEllipsis\" style=\"display:none\"><a href=\"javascript:melon.link.goArtistDetail('3063272');\" title=\"GOT the beat - 페이지 이동\">GOT the beat</a></span>,\n",
       " <span class=\"checkEllipsis\" style=\"display:none\"><a href=\"javascript:melon.link.goArtistDetail('994944');\" title=\"임영웅 - 페이지 이동\">임영웅</a></span>,\n",
       " <span class=\"checkEllipsis\" style=\"display:none\"><a href=\"javascript:melon.link.goArtistDetail('1066419');\" title=\"NCT DREAM - 페이지 이동\">NCT DREAM</a></span>,\n",
       " <span class=\"checkEllipsis\" style=\"display:none\"><a href=\"javascript:melon.link.goArtistDetail('683631');\" title=\"주호 - 페이지 이동\">주호</a></span>,\n",
       " <span class=\"checkEllipsis\" style=\"display:none\"><a href=\"javascript:melon.link.goArtistDetail('236797');\" title=\"태연 (TAEYEON) - 페이지 이동\">태연 (TAEYEON)</a></span>,\n",
       " <span class=\"checkEllipsis\" style=\"display:none\"><a href=\"javascript:melon.link.goArtistDetail('2880487');\" title=\"주시크 (Joosiq) - 페이지 이동\">주시크 (Joosiq)</a></span>,\n",
       " <span class=\"checkEllipsis\" style=\"display:none\"><a href=\"javascript:melon.link.goArtistDetail('711476');\" title=\"한동근 - 페이지 이동\">한동근</a></span>,\n",
       " <span class=\"checkEllipsis\" style=\"display:none\"><a href=\"javascript:melon.link.goArtistDetail('672375');\" title=\"방탄소년단 - 페이지 이동\">방탄소년단</a></span>,\n",
       " <span class=\"checkEllipsis\" style=\"display:none\"><a href=\"javascript:melon.link.goArtistDetail('2893700');\" title=\"탑현 - 페이지 이동\">탑현</a></span>,\n",
       " <span class=\"checkEllipsis\" style=\"display:none\"><a href=\"javascript:melon.link.goArtistDetail('2758756');\" title=\"BE'O (비오) - 페이지 이동\">BE'O (비오)</a></span>,\n",
       " <span class=\"checkEllipsis\" style=\"display:none\"><a href=\"javascript:melon.link.goArtistDetail('752425');\" title=\"폴킴 - 페이지 이동\">폴킴</a></span>,\n",
       " <span class=\"checkEllipsis\" style=\"display:none\"><a href=\"javascript:melon.link.goArtistDetail('672375');\" title=\"방탄소년단 - 페이지 이동\">방탄소년단</a></span>,\n",
       " <span class=\"checkEllipsis\" style=\"display:none\"><a href=\"javascript:melon.link.goArtistDetail('756533');\" title=\"휘인 (Whee In) - 페이지 이동\">휘인 (Whee In)</a></span>,\n",
       " <span class=\"checkEllipsis\" style=\"display:none\"><a href=\"javascript:melon.link.goArtistDetail('261143');\" title=\"아이유 - 페이지 이동\">아이유</a></span>,\n",
       " <span class=\"checkEllipsis\" style=\"display:none\"><a href=\"javascript:melon.link.goArtistDetail('2853095');\" title=\"GAYLE - 페이지 이동\">GAYLE</a></span>,\n",
       " <span class=\"checkEllipsis\" style=\"display:none\"><a href=\"javascript:melon.link.goArtistDetail('100094');\" title=\"자우림 - 페이지 이동\">자우림</a></span>,\n",
       " <span class=\"checkEllipsis\" style=\"display:none\"><a href=\"javascript:melon.link.goArtistDetail('2138620');\" title=\"이무진 - 페이지 이동\">이무진</a></span>,\n",
       " <span class=\"checkEllipsis\" style=\"display:none\"><a href=\"javascript:melon.link.goArtistDetail('861436');\" title=\"세븐틴 - 페이지 이동\">세븐틴</a></span>,\n",
       " <span class=\"checkEllipsis\" style=\"display:none\"><a href=\"javascript:melon.link.goArtistDetail('2880487');\" title=\"주시크 (Joosiq) - 페이지 이동\">주시크 (Joosiq)</a></span>,\n",
       " <span class=\"checkEllipsis\" style=\"display:none\"><a href=\"javascript:melon.link.goArtistDetail('2939212');\" title=\"MSG워너비(M.O.M) - 페이지 이동\">MSG워너비(M.O.M)</a></span>,\n",
       " <span class=\"checkEllipsis\" style=\"display:none\"><a href=\"javascript:melon.link.goArtistDetail('735094');\" title=\"김나영 - 페이지 이동\">김나영</a></span>,\n",
       " <span class=\"checkEllipsis\" style=\"display:none\"><a href=\"javascript:melon.link.goArtistDetail('672375');\" title=\"방탄소년단 - 페이지 이동\">방탄소년단</a></span>,\n",
       " <span class=\"checkEllipsis\" style=\"display:none\"><a href=\"javascript:melon.link.goArtistDetail('2899555');\" title=\"aespa - 페이지 이동\">aespa</a></span>,\n",
       " <span class=\"checkEllipsis\" style=\"display:none\"><a href=\"javascript:melon.link.goArtistDetail('2899555');\" title=\"aespa - 페이지 이동\">aespa</a></span>,\n",
       " <span class=\"checkEllipsis\" style=\"display:none\"><a href=\"javascript:melon.link.goArtistDetail('785501');\" title=\"디핵 (D-Hack) - 페이지 이동\">디핵 (D-Hack)</a>, <a href=\"javascript:melon.link.goArtistDetail('2750866');\" title=\"PATEKO (파테코) - 페이지 이동\">PATEKO (파테코)</a></span>,\n",
       " <span class=\"checkEllipsis\" style=\"display:none\"><a href=\"javascript:melon.link.goArtistDetail('672375');\" title=\"방탄소년단 - 페이지 이동\">방탄소년단</a></span>,\n",
       " <span class=\"checkEllipsis\" style=\"display:none\"><a href=\"javascript:melon.link.goArtistDetail('767374');\" title=\"HIGH4 (하이포) - 페이지 이동\">HIGH4 (하이포)</a>, <a href=\"javascript:melon.link.goArtistDetail('261143');\" title=\"아이유 - 페이지 이동\">아이유</a></span>,\n",
       " <span class=\"checkEllipsis\" style=\"display:none\"><a href=\"javascript:melon.link.goArtistDetail('792022');\" title=\"볼빨간사춘기 - 페이지 이동\">볼빨간사춘기</a></span>,\n",
       " <span class=\"checkEllipsis\" style=\"display:none\"><a href=\"javascript:melon.link.goArtistDetail('261143');\" title=\"아이유 - 페이지 이동\">아이유</a></span>,\n",
       " <span class=\"checkEllipsis\" style=\"display:none\"><a href=\"javascript:melon.link.goArtistDetail('838654');\" title=\"Charlie Puth - 페이지 이동\">Charlie Puth</a></span>,\n",
       " <span class=\"checkEllipsis\" style=\"display:none\"><a href=\"javascript:melon.link.goArtistDetail('261143');\" title=\"아이유 - 페이지 이동\">아이유</a></span>,\n",
       " <span class=\"checkEllipsis\" style=\"display:none\"><a href=\"javascript:melon.link.goArtistDetail('944650');\" title=\"태일 (TAEIL) - 페이지 이동\">태일 (TAEIL)</a></span>,\n",
       " <span class=\"checkEllipsis\" style=\"display:none\"><a href=\"javascript:melon.link.goArtistDetail('261143');\" title=\"아이유 - 페이지 이동\">아이유</a></span>,\n",
       " <span class=\"checkEllipsis\" style=\"display:none\"><a href=\"javascript:melon.link.goArtistDetail('566431');\" title=\"마크툽 (MAKTUB) - 페이지 이동\">마크툽 (MAKTUB)</a></span>,\n",
       " <span class=\"checkEllipsis\" style=\"display:none\"><a href=\"javascript:melon.link.goArtistDetail('549800');\" title=\"Ed Sheeran - 페이지 이동\">Ed Sheeran</a></span>,\n",
       " <span class=\"checkEllipsis\" style=\"display:none\"><a href=\"javascript:melon.link.goArtistDetail('3305');\" title=\"성시경 - 페이지 이동\">성시경</a></span>,\n",
       " <span class=\"checkEllipsis\" style=\"display:none\"><a href=\"javascript:melon.link.goArtistDetail('718655');\" title=\"이예준 - 페이지 이동\">이예준</a></span>,\n",
       " <span class=\"checkEllipsis\" style=\"display:none\"><a href=\"javascript:melon.link.goArtistDetail('2758756');\" title=\"BE'O (비오) - 페이지 이동\">BE'O (비오)</a></span>,\n",
       " <span class=\"checkEllipsis\" style=\"display:none\"><a href=\"javascript:melon.link.goArtistDetail('752425');\" title=\"폴킴 - 페이지 이동\">폴킴</a></span>,\n",
       " <span class=\"checkEllipsis\" style=\"display:none\"><a href=\"javascript:melon.link.goArtistDetail('100260');\" title=\"Coldplay - 페이지 이동\">Coldplay</a>, <a href=\"javascript:melon.link.goArtistDetail('672375');\" title=\"방탄소년단 - 페이지 이동\">방탄소년단</a></span>,\n",
       " <span class=\"checkEllipsis\" style=\"display:none\"><a href=\"javascript:melon.link.goArtistDetail('241227');\" title=\"베이식 (Basick) - 페이지 이동\">베이식 (Basick)</a></span>,\n",
       " <span class=\"checkEllipsis\" style=\"display:none\"><a href=\"javascript:melon.link.goArtistDetail('994005');\" title=\"경서 - 페이지 이동\">경서</a></span>,\n",
       " <span class=\"checkEllipsis\" style=\"display:none\"><a href=\"javascript:melon.link.goArtistDetail('2754623');\" title=\"호미들 - 페이지 이동\">호미들</a></span>,\n",
       " <span class=\"checkEllipsis\" style=\"display:none\"><a href=\"javascript:melon.link.goArtistDetail('420621');\" title=\"Justin Bieber - 페이지 이동\">Justin Bieber</a></span>,\n",
       " <span class=\"checkEllipsis\" style=\"display:none\"><a href=\"javascript:melon.link.goArtistDetail('839732');\" title=\"멜로망스 - 페이지 이동\">멜로망스</a></span>,\n",
       " <span class=\"checkEllipsis\" style=\"display:none\"><a href=\"javascript:melon.link.goArtistDetail('857994');\" title=\"오마이걸 (OH MY GIRL) - 페이지 이동\">오마이걸 (OH MY GIRL)</a></span>,\n",
       " <span class=\"checkEllipsis\" style=\"display:none\"><a href=\"javascript:melon.link.goArtistDetail('751611');\" title=\"헤이즈 (Heize) - 페이지 이동\">헤이즈 (Heize)</a></span>,\n",
       " <span class=\"checkEllipsis\" style=\"display:none\"><a href=\"javascript:melon.link.goArtistDetail('2744750');\" title=\"BIG Naughty (서동현) - 페이지 이동\">BIG Naughty (서동현)</a></span>,\n",
       " <span class=\"checkEllipsis\" style=\"display:none\"><a href=\"javascript:melon.link.goArtistDetail('468244');\" title=\"10CM - 페이지 이동\">10CM</a></span>,\n",
       " <span class=\"checkEllipsis\" style=\"display:none\"><a href=\"javascript:melon.link.goArtistDetail('1624993');\" title=\"하이라이트 (Highlight) - 페이지 이동\">하이라이트 (Highlight)</a></span>,\n",
       " <span class=\"checkEllipsis\" style=\"display:none\"><a href=\"javascript:melon.link.goArtistDetail('712452');\" title=\"AKMU (악뮤) - 페이지 이동\">AKMU (악뮤)</a></span>,\n",
       " <span class=\"checkEllipsis\" style=\"display:none\"><a href=\"javascript:melon.link.goArtistDetail('569233');\" title=\"버스커 버스커 - 페이지 이동\">버스커 버스커</a></span>,\n",
       " <span class=\"checkEllipsis\" style=\"display:none\"><a href=\"javascript:melon.link.goArtistDetail('531700');\" title=\"브레이브걸스 - 페이지 이동\">브레이브걸스</a></span>,\n",
       " <span class=\"checkEllipsis\" style=\"display:none\"><a href=\"javascript:melon.link.goArtistDetail('723192');\" title=\"이승윤 - 페이지 이동\">이승윤</a></span>,\n",
       " <span class=\"checkEllipsis\" style=\"display:none\"><a href=\"javascript:melon.link.goArtistDetail('261143');\" title=\"아이유 - 페이지 이동\">아이유</a></span>,\n",
       " <span class=\"checkEllipsis\" style=\"display:none\"><a href=\"javascript:melon.link.goArtistDetail('712452');\" title=\"AKMU (악뮤) - 페이지 이동\">AKMU (악뮤)</a></span>,\n",
       " <span class=\"checkEllipsis\" style=\"display:none\"><a href=\"javascript:melon.link.goArtistDetail('655051');\" title=\"벤 - 페이지 이동\">벤</a></span>,\n",
       " <span class=\"checkEllipsis\" style=\"display:none\"><a href=\"javascript:melon.link.goArtistDetail('36329');\" title=\"Kelly Clarkson - 페이지 이동\">Kelly Clarkson</a></span>,\n",
       " <span class=\"checkEllipsis\" style=\"display:none\"><a href=\"javascript:melon.link.goArtistDetail('236797');\" title=\"태연 (TAEYEON) - 페이지 이동\">태연 (TAEYEON)</a></span>,\n",
       " <span class=\"checkEllipsis\" style=\"display:none\"><a href=\"javascript:melon.link.goArtistDetail('176393');\" title=\"제시 (Jessi) - 페이지 이동\">제시 (Jessi)</a></span>,\n",
       " <span class=\"checkEllipsis\" style=\"display:none\"><a href=\"javascript:melon.link.goArtistDetail('2403002');\" title=\"비비 (BIBI) - 페이지 이동\">비비 (BIBI)</a></span>,\n",
       " <span class=\"checkEllipsis\" style=\"display:none\"><a href=\"javascript:melon.link.goArtistDetail('725989');\" title=\"V - 페이지 이동\">V</a></span>,\n",
       " <span class=\"checkEllipsis\" style=\"display:none\"><a href=\"javascript:melon.link.goArtistDetail('688432');\" title=\"로꼬 - 페이지 이동\">로꼬</a>, <a href=\"javascript:melon.link.goArtistDetail('858238');\" title=\"유주 (YUJU) - 페이지 이동\">유주 (YUJU)</a></span>,\n",
       " <span class=\"checkEllipsis\" style=\"display:none\"><a href=\"javascript:melon.link.goArtistDetail('648551');\" title=\"장범준 - 페이지 이동\">장범준</a></span>,\n",
       " <span class=\"checkEllipsis\" style=\"display:none\"><a href=\"javascript:melon.link.goArtistDetail('1142');\" title=\"임창정 - 페이지 이동\">임창정</a></span>]"
      ]
     },
     "execution_count": 52,
     "metadata": {},
     "output_type": "execute_result"
    }
   ],
   "source": [
    "# 가수 100명, 노래 100곡 수집후 리스트 제작\n",
    "song \n",
    "singer"
   ]
  },
  {
   "cell_type": "code",
   "execution_count": 68,
   "id": "4ba9be5f",
   "metadata": {},
   "outputs": [],
   "source": [
    "# 데이터 수집후!\n",
    "# 순수한 글자 정보만 추출해서 저장\n",
    "songList = []\n",
    "singerList = []\n",
    "rankList = []\n",
    "for i in range(len(singer)):\n",
    "    songList.append(song[i].text)\n",
    "    singerList.append(singer[i].text)\n",
    "    rankList.append(i+1)"
   ]
  },
  {
   "cell_type": "markdown",
   "id": "aa116aae",
   "metadata": {},
   "source": [
    "### 데이터 활용단계!"
   ]
  },
  {
   "cell_type": "code",
   "execution_count": 58,
   "id": "275b4549",
   "metadata": {},
   "outputs": [],
   "source": [
    "# 수집한 데이터를 활용해서 데이터 프레임제작\n",
    "import pandas as pd"
   ]
  },
  {
   "cell_type": "code",
   "execution_count": 71,
   "id": "f00ac4f8",
   "metadata": {},
   "outputs": [],
   "source": [
    "#딕셔너리 {key : velue}\n",
    "dic = {\"노래제목\" : songList,\"가수\" :singerList,\"순위\" :rankList}"
   ]
  },
  {
   "cell_type": "code",
   "execution_count": 73,
   "id": "ba79eae1",
   "metadata": {},
   "outputs": [],
   "source": [
    "melon = pd.DataFrame(dic)"
   ]
  },
  {
   "cell_type": "code",
   "execution_count": 75,
   "id": "adee44f1",
   "metadata": {},
   "outputs": [],
   "source": [
    "melon.set_index('순위', inplace=True)"
   ]
  },
  {
   "cell_type": "code",
   "execution_count": 84,
   "id": "ce5df11c",
   "metadata": {
    "scrolled": true
   },
   "outputs": [],
   "source": [
    "# csv형식의 파일로 저장\n",
    "# 1. euc-kr\n",
    "# 2. utf-8\n",
    "# 3. \"\"\n",
    "# 4. utf-8-sig\n",
    "melon.to_csv('멜론차트.csv', encoding='euc-kr')"
   ]
  },
  {
   "cell_type": "markdown",
   "id": "debedd52",
   "metadata": {},
   "source": [
    "### 교진님 부대찌개"
   ]
  },
  {
   "cell_type": "code",
   "execution_count": null,
   "id": "cae4e849",
   "metadata": {},
   "outputs": [],
   "source": []
  },
  {
   "cell_type": "code",
   "execution_count": null,
   "id": "6a6b1abf",
   "metadata": {},
   "outputs": [],
   "source": []
  },
  {
   "cell_type": "code",
   "execution_count": null,
   "id": "8794b220",
   "metadata": {},
   "outputs": [],
   "source": []
  },
  {
   "cell_type": "code",
   "execution_count": null,
   "id": "5d82b991",
   "metadata": {},
   "outputs": [],
   "source": []
  },
  {
   "cell_type": "code",
   "execution_count": null,
   "id": "1a69c9ef",
   "metadata": {},
   "outputs": [],
   "source": []
  }
 ],
 "metadata": {
  "kernelspec": {
   "display_name": "Python 3 (ipykernel)",
   "language": "python",
   "name": "python3"
  },
  "language_info": {
   "codemirror_mode": {
    "name": "ipython",
    "version": 3
   },
   "file_extension": ".py",
   "mimetype": "text/x-python",
   "name": "python",
   "nbconvert_exporter": "python",
   "pygments_lexer": "ipython3",
   "version": "3.9.7"
  }
 },
 "nbformat": 4,
 "nbformat_minor": 5
}
