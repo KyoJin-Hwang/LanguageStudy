{
 "cells": [
  {
   "cell_type": "markdown",
   "id": "e9849986",
   "metadata": {},
   "source": [
    "# Question2"
   ]
  },
  {
   "cell_type": "code",
   "execution_count": 3,
   "id": "a3ee23c8",
   "metadata": {},
   "outputs": [],
   "source": [
    "from selenium import webdriver as wb\n",
    "from selenium.webdriver.common.keys import Keys\n",
    "import time"
   ]
  },
  {
   "cell_type": "code",
   "execution_count": 6,
   "id": "5967e6f2",
   "metadata": {},
   "outputs": [
    {
     "name": "stderr",
     "output_type": "stream",
     "text": [
      "C:\\Users\\smhrd\\AppData\\Local\\Temp/ipykernel_10724/1960449504.py:3: DeprecationWarning: find_element_by_* commands are deprecated. Please use find_element() instead\n",
      "  search = driver.find_element_by_id(\"query\")\n"
     ]
    }
   ],
   "source": [
    "driver = wb.Chrome()\n",
    "driver.get(\"http://www.naver.com\")\n",
    "search = driver.find_element_by_id(\"query\")\n",
    "search.send_keys(\"크롤링\")\n",
    "search.send_keys(Keys.ENTER)"
   ]
  },
  {
   "cell_type": "markdown",
   "id": "8628c169",
   "metadata": {},
   "source": [
    "# Question3"
   ]
  },
  {
   "cell_type": "code",
   "execution_count": 28,
   "id": "f1a26a23",
   "metadata": {},
   "outputs": [],
   "source": [
    "from selenium import webdriver as wb\n",
    "import time\n",
    "import pandas as pd"
   ]
  },
  {
   "cell_type": "code",
   "execution_count": 31,
   "id": "7fa0c22c",
   "metadata": {
    "collapsed": true
   },
   "outputs": [
    {
     "name": "stderr",
     "output_type": "stream",
     "text": [
      "C:\\Users\\smhrd\\AppData\\Local\\Temp/ipykernel_10724/550143894.py:11: DeprecationWarning: find_elements_by_css_selector is deprecated. Please use find_elements(by=By.CSS_SELECTOR, value=css_selector) instead\n",
      "  btn = driver.find_elements_by_css_selector('img.lazy')\n",
      "C:\\Users\\smhrd\\AppData\\Local\\Temp/ipykernel_10724/550143894.py:15: DeprecationWarning: find_element_by_css_selector is deprecated. Please use find_element(by=By.CSS_SELECTOR, value=css_selector) instead\n",
      "  title = driver.find_element_by_css_selector('h1.itemtit').text\n",
      "C:\\Users\\smhrd\\AppData\\Local\\Temp/ipykernel_10724/550143894.py:16: DeprecationWarning: find_element_by_css_selector is deprecated. Please use find_element(by=By.CSS_SELECTOR, value=css_selector) instead\n",
      "  price = driver.find_element_by_css_selector('strong.price_real').text\n",
      "C:\\Users\\smhrd\\AppData\\Local\\Temp/ipykernel_10724/550143894.py:17: DeprecationWarning: find_element_by_css_selector is deprecated. Please use find_element(by=By.CSS_SELECTOR, value=css_selector) instead\n",
      "  cate = driver.find_element_by_css_selector('body > div.location-navi > ul > li:nth-child(3) > a').text\n"
     ]
    },
    {
     "data": {
      "text/html": [
       "<div>\n",
       "<style scoped>\n",
       "    .dataframe tbody tr th:only-of-type {\n",
       "        vertical-align: middle;\n",
       "    }\n",
       "\n",
       "    .dataframe tbody tr th {\n",
       "        vertical-align: top;\n",
       "    }\n",
       "\n",
       "    .dataframe thead th {\n",
       "        text-align: right;\n",
       "    }\n",
       "</style>\n",
       "<table border=\"1\" class=\"dataframe\">\n",
       "  <thead>\n",
       "    <tr style=\"text-align: right;\">\n",
       "      <th></th>\n",
       "      <th>상품명</th>\n",
       "      <th>가격</th>\n",
       "      <th>카테고리</th>\n",
       "    </tr>\n",
       "  </thead>\n",
       "  <tbody>\n",
       "    <tr>\n",
       "      <th>0</th>\n",
       "      <td>21년산)밥맛좋은쌀 20kg</td>\n",
       "      <td>35,600원</td>\n",
       "      <td>백미</td>\n",
       "    </tr>\n",
       "    <tr>\n",
       "      <th>1</th>\n",
       "      <td>프로젝트엠 남.여 데일리 티셔츠 3팩/4팩 세트 택1 (EPB5TS2902 외)</td>\n",
       "      <td>7,500원</td>\n",
       "      <td>티셔츠/셔츠</td>\n",
       "    </tr>\n",
       "    <tr>\n",
       "      <th>2</th>\n",
       "      <td>무료반품 균일가 남자양말 봄 패션 발목 덧신 신사</td>\n",
       "      <td>6,900원</td>\n",
       "      <td>양말</td>\n",
       "    </tr>\n",
       "    <tr>\n",
       "      <th>3</th>\n",
       "      <td>제주 흑돼지 구이용 500g x 4팩</td>\n",
       "      <td>11,900원</td>\n",
       "      <td>돼지고기</td>\n",
       "    </tr>\n",
       "    <tr>\n",
       "      <th>4</th>\n",
       "      <td>성주참외 4.5kg/소꼬마 20-35과 22년 햇 참외/가정용</td>\n",
       "      <td>23,900원</td>\n",
       "      <td>과일</td>\n",
       "    </tr>\n",
       "    <tr>\n",
       "      <th>5</th>\n",
       "      <td>멸균우유 1000ml x 10입 (1박스)</td>\n",
       "      <td>21,700원</td>\n",
       "      <td>우유</td>\n",
       "    </tr>\n",
       "    <tr>\n",
       "      <th>6</th>\n",
       "      <td>고등어 120-140g x 10팩/국내산</td>\n",
       "      <td>13,900원</td>\n",
       "      <td>신선식품</td>\n",
       "    </tr>\n",
       "    <tr>\n",
       "      <th>7</th>\n",
       "      <td>수퍼맘스토리카페/최고의 베스트셀러/NEW 멀티플리딩스킬/다양한 독해기술력향상/번역본...</td>\n",
       "      <td>42,000원</td>\n",
       "      <td>해외원서</td>\n",
       "    </tr>\n",
       "    <tr>\n",
       "      <th>8</th>\n",
       "      <td>체이스컬트 SUMMER 오픈 남성 티셔츠/팬츠 모음</td>\n",
       "      <td>9,900원</td>\n",
       "      <td>반팔티셔츠</td>\n",
       "    </tr>\n",
       "    <tr>\n",
       "      <th>9</th>\n",
       "      <td>요즘에/무료반품+22%/슬랙스/데님/팬츠/밴딩/빅사이즈</td>\n",
       "      <td>9,900원</td>\n",
       "      <td>바지/레깅스</td>\n",
       "    </tr>\n",
       "  </tbody>\n",
       "</table>\n",
       "</div>"
      ],
      "text/plain": [
       "                                                 상품명       가격    카테고리\n",
       "0                                    21년산)밥맛좋은쌀 20kg  35,600원      백미\n",
       "1       프로젝트엠 남.여 데일리 티셔츠 3팩/4팩 세트 택1 (EPB5TS2902 외)   7,500원  티셔츠/셔츠\n",
       "2                        무료반품 균일가 남자양말 봄 패션 발목 덧신 신사   6,900원      양말\n",
       "3                               제주 흑돼지 구이용 500g x 4팩  11,900원    돼지고기\n",
       "4                 성주참외 4.5kg/소꼬마 20-35과 22년 햇 참외/가정용  23,900원      과일\n",
       "5                            멸균우유 1000ml x 10입 (1박스)  21,700원      우유\n",
       "6                             고등어 120-140g x 10팩/국내산  13,900원    신선식품\n",
       "7  수퍼맘스토리카페/최고의 베스트셀러/NEW 멀티플리딩스킬/다양한 독해기술력향상/번역본...  42,000원    해외원서\n",
       "8                       체이스컬트 SUMMER 오픈 남성 티셔츠/팬츠 모음   9,900원   반팔티셔츠\n",
       "9                     요즘에/무료반품+22%/슬랙스/데님/팬츠/밴딩/빅사이즈   9,900원  바지/레깅스"
      ]
     },
     "execution_count": 31,
     "metadata": {},
     "output_type": "execute_result"
    }
   ],
   "source": [
    "driver = wb.Chrome()\n",
    "driver.get('http://corners.gmarket.co.kr/Bestsellers')\n",
    "time.sleep(1)\n",
    "\n",
    "title_list = []\n",
    "price_list = []\n",
    "cate_list = []\n",
    "\n",
    "for i in range(10) : \n",
    "    btn = driver.find_elements_by_css_selector('img.lazy')\n",
    "    btn[i].click()\n",
    "    time.sleep(1)\n",
    "    \n",
    "    title = driver.find_element_by_css_selector('h1.itemtit').text\n",
    "    price = driver.find_element_by_css_selector('strong.price_real').text\n",
    "    cate = driver.find_element_by_css_selector('body > div.location-navi > ul > li:nth-child(3) > a').text \n",
    "    \n",
    "    title_list.append(title)\n",
    "    price_list.append(price)    \n",
    "    cate_list.append(cate)\n",
    "    \n",
    "    driver.back()\n",
    "    time.sleep(1)\n",
    "\n",
    "dic = {\"상품명\":title_list, \"가격\":price_list, \"카테고리\":cate_list}\n",
    "gmarket = pd.DataFrame(dic)\n",
    "gmarket"
   ]
  },
  {
   "cell_type": "markdown",
   "id": "588b417a",
   "metadata": {},
   "source": [
    "# Question4"
   ]
  },
  {
   "cell_type": "code",
   "execution_count": 46,
   "id": "03c73ee8",
   "metadata": {},
   "outputs": [],
   "source": [
    "import requests as req\n",
    "from bs4 import BeautifulSoup as bs\n",
    "import pandas as pd"
   ]
  },
  {
   "cell_type": "code",
   "execution_count": 52,
   "id": "11704454",
   "metadata": {},
   "outputs": [],
   "source": [
    "req.get(\"https://www.melon.com/chart/\")\n",
    "h = {\"User-Agent\": \"Mozilla/5.0 (Windows NT 10.0; Win64; x64) AppleWebKit/537.36 (KHTML, like Gecko) Chrome/100.0.4896.127 Safari/537.36\"}\n",
    "res = req.get(\"https://www.melon.com/chart/\", headers =h)\n",
    "soup = bs(res.text, 'lxml')\n",
    "song = soup.select('div.ellipsis.rank01 > span > a')\n",
    "singer = soup.select('div.ellipsis.rank02 > span')\n",
    "\n",
    "songList = []\n",
    "singerList = []\n",
    "rankList = []\n",
    "for i in range(len(singer)):\n",
    "    songList.append(song[i].text)\n",
    "    singerList.append(singer[i].text)\n",
    "    rankList.append(i+1)\n",
    "    \n",
    "dic = {\"노래제목\" : songList,\"가수\" :singerList,\"순위\" :rankList}\n",
    "melon = pd.DataFrame(dic)\n",
    "melon.set_index('순위', inplace=True)\n",
    "melon.to_csv('멜론차트100.csv', encoding='euc-kr')"
   ]
  },
  {
   "cell_type": "markdown",
   "id": "65b40a45",
   "metadata": {},
   "source": [
    "# Question5"
   ]
  },
  {
   "cell_type": "code",
   "execution_count": 53,
   "id": "235be29d",
   "metadata": {},
   "outputs": [],
   "source": [
    "from selenium import webdriver as wb\n",
    "import time\n",
    "import pandas as pd"
   ]
  },
  {
   "cell_type": "code",
   "execution_count": 69,
   "id": "a1370cda",
   "metadata": {
    "collapsed": true
   },
   "outputs": [
    {
     "name": "stderr",
     "output_type": "stream",
     "text": [
      "C:\\Users\\smhrd\\AppData\\Local\\Temp/ipykernel_10724/2498728856.py:5: DeprecationWarning: find_element_by_css_selector is deprecated. Please use find_element(by=By.CSS_SELECTOR, value=css_selector) instead\n",
      "  btn = driver.find_element_by_css_selector(\"a.c_05\")\n"
     ]
    },
    {
     "name": "stdout",
     "output_type": "stream",
     "text": [
      "더보기 끝\n"
     ]
    },
    {
     "name": "stderr",
     "output_type": "stream",
     "text": [
      "C:\\Users\\smhrd\\AppData\\Local\\Temp/ipykernel_10724/2498728856.py:10: DeprecationWarning: find_elements_by_css_selector is deprecated. Please use find_elements(by=By.CSS_SELECTOR, value=css_selector) instead\n",
      "  title = driver.find_elements_by_css_selector(\"h4.h.fz_03\")\n",
      "C:\\Users\\smhrd\\AppData\\Local\\Temp/ipykernel_10724/2498728856.py:11: DeprecationWarning: find_elements_by_css_selector is deprecated. Please use find_elements(by=By.CSS_SELECTOR, value=css_selector) instead\n",
      "  price = driver.find_elements_by_css_selector(\"div > div.item-text > div > strong\")\n"
     ]
    }
   ],
   "source": [
    "driver = wb.Chrome()\n",
    "driver.get('https://www.hsd.co.kr/menu/menu_list')\n",
    "try : \n",
    "    for i in range(30) : \n",
    "        btn = driver.find_element_by_css_selector(\"a.c_05\")\n",
    "        btn.click()\n",
    "        time.sleep(1)\n",
    "except :\n",
    "    print(\"더보기 끝\")\n",
    "title = driver.find_elements_by_css_selector(\"h4.h.fz_03\")\n",
    "price = driver.find_elements_by_css_selector(\"div > div.item-text > div > strong\")\n",
    "\n",
    "titleList = []\n",
    "priceList = []\n",
    "for i in range(len(title)):\n",
    "    priceList.append(price[i].text)\n",
    "    titleList.append(title[i].text)\n",
    "    \n",
    "dic = {\"음식명\" : titleList,\"가격\" : priceList}\n",
    "menu = pd.DataFrame(dic)\n",
    "menu.to_csv('한솥메뉴판.csv', encoding='euc-kr')"
   ]
  },
  {
   "cell_type": "code",
   "execution_count": 70,
   "id": "510c6060",
   "metadata": {},
   "outputs": [
    {
     "data": {
      "text/html": [
       "<div>\n",
       "<style scoped>\n",
       "    .dataframe tbody tr th:only-of-type {\n",
       "        vertical-align: middle;\n",
       "    }\n",
       "\n",
       "    .dataframe tbody tr th {\n",
       "        vertical-align: top;\n",
       "    }\n",
       "\n",
       "    .dataframe thead th {\n",
       "        text-align: right;\n",
       "    }\n",
       "</style>\n",
       "<table border=\"1\" class=\"dataframe\">\n",
       "  <thead>\n",
       "    <tr style=\"text-align: right;\">\n",
       "      <th></th>\n",
       "      <th>음식명</th>\n",
       "      <th>가격</th>\n",
       "    </tr>\n",
       "  </thead>\n",
       "  <tbody>\n",
       "    <tr>\n",
       "      <th>0</th>\n",
       "      <td>나시고랭 콤보</td>\n",
       "      <td>6,800</td>\n",
       "    </tr>\n",
       "    <tr>\n",
       "      <th>1</th>\n",
       "      <td>나시고랭</td>\n",
       "      <td>6,000</td>\n",
       "    </tr>\n",
       "    <tr>\n",
       "      <th>2</th>\n",
       "      <td>스리라차 알새우칩</td>\n",
       "      <td>1,200</td>\n",
       "    </tr>\n",
       "    <tr>\n",
       "      <th>3</th>\n",
       "      <td>한입 족발 도시락</td>\n",
       "      <td>8,500</td>\n",
       "    </tr>\n",
       "    <tr>\n",
       "      <th>4</th>\n",
       "      <td>한입 불족발 도시락</td>\n",
       "      <td>8,500</td>\n",
       "    </tr>\n",
       "    <tr>\n",
       "      <th>...</th>\n",
       "      <td>...</td>\n",
       "      <td>...</td>\n",
       "    </tr>\n",
       "    <tr>\n",
       "      <th>88</th>\n",
       "      <td>무말랭이 무침</td>\n",
       "      <td>300</td>\n",
       "    </tr>\n",
       "    <tr>\n",
       "      <th>89</th>\n",
       "      <td>한솥밥</td>\n",
       "      <td>1,000</td>\n",
       "    </tr>\n",
       "    <tr>\n",
       "      <th>90</th>\n",
       "      <td>현미밥</td>\n",
       "      <td>1,700</td>\n",
       "    </tr>\n",
       "    <tr>\n",
       "      <th>91</th>\n",
       "      <td>리얼 티라미수 찰떡</td>\n",
       "      <td>1,500</td>\n",
       "    </tr>\n",
       "    <tr>\n",
       "      <th>92</th>\n",
       "      <td>리얼꿀 미니호떡</td>\n",
       "      <td>2,200</td>\n",
       "    </tr>\n",
       "  </tbody>\n",
       "</table>\n",
       "<p>93 rows × 2 columns</p>\n",
       "</div>"
      ],
      "text/plain": [
       "           음식명     가격\n",
       "0      나시고랭 콤보  6,800\n",
       "1         나시고랭  6,000\n",
       "2    스리라차 알새우칩  1,200\n",
       "3    한입 족발 도시락  8,500\n",
       "4   한입 불족발 도시락  8,500\n",
       "..         ...    ...\n",
       "88     무말랭이 무침    300\n",
       "89         한솥밥  1,000\n",
       "90         현미밥  1,700\n",
       "91  리얼 티라미수 찰떡  1,500\n",
       "92    리얼꿀 미니호떡  2,200\n",
       "\n",
       "[93 rows x 2 columns]"
      ]
     },
     "execution_count": 70,
     "metadata": {},
     "output_type": "execute_result"
    }
   ],
   "source": [
    "menu"
   ]
  },
  {
   "cell_type": "code",
   "execution_count": null,
   "id": "a0d65ca3",
   "metadata": {},
   "outputs": [],
   "source": []
  },
  {
   "cell_type": "code",
   "execution_count": null,
   "id": "575f7f4f",
   "metadata": {},
   "outputs": [],
   "source": []
  },
  {
   "cell_type": "code",
   "execution_count": null,
   "id": "359c3831",
   "metadata": {},
   "outputs": [],
   "source": []
  }
 ],
 "metadata": {
  "kernelspec": {
   "display_name": "Python 3 (ipykernel)",
   "language": "python",
   "name": "python3"
  },
  "language_info": {
   "codemirror_mode": {
    "name": "ipython",
    "version": 3
   },
   "file_extension": ".py",
   "mimetype": "text/x-python",
   "name": "python",
   "nbconvert_exporter": "python",
   "pygments_lexer": "ipython3",
   "version": "3.9.7"
  }
 },
 "nbformat": 4,
 "nbformat_minor": 5
}
