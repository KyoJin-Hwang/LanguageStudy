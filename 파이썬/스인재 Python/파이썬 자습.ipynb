{
 "cells": [
  {
   "cell_type": "code",
   "execution_count": 2,
   "id": "e42c857d",
   "metadata": {},
   "outputs": [
    {
     "data": {
      "text/plain": [
       "2"
      ]
     },
     "execution_count": 2,
     "metadata": {},
     "output_type": "execute_result"
    }
   ],
   "source": [
    "1+1"
   ]
  },
  {
   "cell_type": "code",
   "execution_count": 3,
   "id": "ba056c7b",
   "metadata": {},
   "outputs": [
    {
     "name": "stdout",
     "output_type": "stream",
     "text": [
      "3\n"
     ]
    }
   ],
   "source": [
    "num = 3\n",
    "print(num)"
   ]
  },
  {
   "cell_type": "code",
   "execution_count": 4,
   "id": "4dccfc73",
   "metadata": {},
   "outputs": [
    {
     "data": {
      "text/plain": [
       "2.5"
      ]
     },
     "execution_count": 4,
     "metadata": {},
     "output_type": "execute_result"
    }
   ],
   "source": [
    "num = 2.5\n",
    "num"
   ]
  },
  {
   "cell_type": "code",
   "execution_count": 5,
   "id": "e2c12dea",
   "metadata": {},
   "outputs": [
    {
     "name": "stdout",
     "output_type": "stream",
     "text": [
      "황교진\n"
     ]
    }
   ],
   "source": [
    "num = \"황교진\"\n",
    "print(num)"
   ]
  },
  {
   "cell_type": "code",
   "execution_count": 6,
   "id": "52d73fd7",
   "metadata": {},
   "outputs": [
    {
     "name": "stdout",
     "output_type": "stream",
     "text": [
      "정형\n"
     ]
    }
   ],
   "source": [
    "num = '정형'\n",
    "print(num)"
   ]
  },
  {
   "cell_type": "markdown",
   "id": "7aee5dba",
   "metadata": {},
   "source": [
    "# 변수사용"
   ]
  },
  {
   "cell_type": "code",
   "execution_count": 7,
   "id": "243b04a4",
   "metadata": {},
   "outputs": [
    {
     "name": "stdout",
     "output_type": "stream",
     "text": [
      "10 15 12 13\n"
     ]
    }
   ],
   "source": [
    "a=10\n",
    "b=15\n",
    "c,d=12,13\n",
    "print(a,b,c,d)"
   ]
  },
  {
   "cell_type": "code",
   "execution_count": 8,
   "id": "c3aa7294",
   "metadata": {},
   "outputs": [
    {
     "name": "stdout",
     "output_type": "stream",
     "text": [
      "python python python python\n"
     ]
    }
   ],
   "source": [
    "str1=\"python\"\n",
    "str2=\"python\"\n",
    "str3 = str4 = \"python\"\n",
    "print(str1,str2,str3,str4)"
   ]
  },
  {
   "cell_type": "code",
   "execution_count": 11,
   "id": "38dc0036",
   "metadata": {},
   "outputs": [],
   "source": [
    "state = True\n",
    "state2 = False"
   ]
  },
  {
   "cell_type": "markdown",
   "id": "16f0f1ef",
   "metadata": {},
   "source": [
    "# 문자열 사용방법 "
   ]
  },
  {
   "cell_type": "code",
   "execution_count": 23,
   "id": "127b4fa2",
   "metadata": {},
   "outputs": [
    {
     "name": "stdout",
     "output_type": "stream",
     "text": [
      "she's gone 쌍따옴표로 묶어주기 \n",
      "\n",
      "she's gone 작은따옴표 역슬래쉬\n",
      "\n",
      "\"she's gone\" 쌍따옴표 작은따옴표 같이사용\n"
     ]
    }
   ],
   "source": [
    "s1=\"she's gone 쌍따옴표로 묶어주기 \"\n",
    "print(s1)\n",
    "print()\n",
    "s2='she\\'s gone 작은따옴표 역슬래쉬'\n",
    "print(s2)\n",
    "print()\n",
    "s3='\"she\\'s gone\" 쌍따옴표 작은따옴표 같이사용'\n",
    "print(s3)\n",
    "\n"
   ]
  },
  {
   "cell_type": "markdown",
   "id": "66142a7d",
   "metadata": {},
   "source": [
    "#  이스케이프 코드\n",
    "##### 프로그래밍 할 때 사용할 수 있도록 미리 정의해둔  \"문자 조합 \"\n",
    "*\\n  개행(줄바꿈)*\n",
    "\n",
    "*\\t  수평탭* \n",
    "\n",
    "*\\\\(두개)  문자\"\\\"* \n",
    "\n",
    "*\\' 단일 인용부호(')*\n",
    "\n",
    "*\\\" 이중 인용부호(\")*\n",
    "\n"
   ]
  },
  {
   "cell_type": "code",
   "execution_count": 10,
   "id": "a9ddf9f5",
   "metadata": {},
   "outputs": [
    {
     "name": "stdout",
     "output_type": "stream",
     "text": [
      "자세히 보아야 예쁘다.\n",
      "오래 보아야 사랑스럽다.\n",
      "너도 그렇다\n",
      "\n"
     ]
    }
   ],
   "source": [
    "s4 = \"\"\"자세히 보아야 예쁘다.\n",
    "오래 보아야 사랑스럽다.\n",
    "너도 그렇다\n",
    "\"\"\"\n",
    "#4줄\n",
    "#5줄\n",
    "print(s4)"
   ]
  },
  {
   "cell_type": "code",
   "execution_count": 12,
   "id": "bcdf71fe",
   "metadata": {},
   "outputs": [
    {
     "name": "stdout",
     "output_type": "stream",
     "text": [
      "여러줄 주석문 만들기\n",
      "1번째 줄\n",
      "2번째 줄\n"
     ]
    }
   ],
   "source": [
    "s5 = \"\"\"여러줄 주석문 만들기\n",
    "1번째 줄\n",
    "2번째 줄\"\"\"\n",
    "#주석으로 \"\"\"주석내용\"\"\"사용\n",
    "#주석으로 '''주석내용'''사용\n",
    "#print사용\n",
    "print(s5)"
   ]
  },
  {
   "cell_type": "markdown",
   "id": "31bb529d",
   "metadata": {},
   "source": [
    "# 인덱싱과 슬라이싱\n",
    "1. 인덱싱\n",
    "*무엇인가를 '가리킨다'는 의미*\n",
    "\n",
    "2. 슬라이싱\n",
    "*무엇인가를 '잘라낸다'는 의미*"
   ]
  },
  {
   "cell_type": "code",
   "execution_count": 18,
   "id": "88fb9358",
   "metadata": {},
   "outputs": [
    {
     "name": "stdout",
     "output_type": "stream",
     "text": [
      "M\n",
      "i\n",
      "H\n",
      "H\n"
     ]
    }
   ],
   "source": [
    "#문자열 인덱싱\n",
    "\n",
    "a1 = 'My name is MH'\n",
    "print(a1[0])\n",
    "print(a1[8])\n",
    "print(a1[12])\n",
    "print(a1[-1])"
   ]
  },
  {
   "cell_type": "code",
   "execution_count": 19,
   "id": "76d0e087",
   "metadata": {},
   "outputs": [
    {
     "name": "stdout",
     "output_type": "stream",
     "text": [
      "name\n"
     ]
    }
   ],
   "source": [
    "print(a1[3]+a1[4]+a1[5]+a1[6])"
   ]
  },
  {
   "cell_type": "code",
   "execution_count": 45,
   "id": "7b1c6d78",
   "metadata": {},
   "outputs": [
    {
     "name": "stdout",
     "output_type": "stream",
     "text": [
      "문자열 슬라이싱 [ 이상 : 미만 : 간격]\n",
      "My n\n",
      "name is \n",
      "name is MH\n",
      "is M\n",
      "\n",
      "0부터 잘라내고 싶을 때\n",
      "My n\n",
      "name is MH\n",
      "is MH\n",
      "a2[10:3]안됨x\n"
     ]
    }
   ],
   "source": [
    "print('문자열 슬라이싱 [ 이상 : 미만 : 간격]')\n",
    "a2 = 'My name is MH'\n",
    "\n",
    "print(a2[0:4])\n",
    "print(a2[3:11])\n",
    "print(a2[3:15])\n",
    "print(a2[-5:-1])\n",
    "print()\n",
    "print('0부터 잘라내고 싶을 때')\n",
    "print(a2[:4])\n",
    "print(a2[3:])\n",
    "print(a2[-5:])\n",
    "print('a2[10:3]'+'안됨x')\n",
    "\n"
   ]
  },
  {
   "cell_type": "code",
   "execution_count": 55,
   "id": "ea64d48c",
   "metadata": {},
   "outputs": [
    {
     "name": "stdout",
     "output_type": "stream",
     "text": [
      "생일 : 1997년 11월 27일\n",
      "1997년날씨 : 소나기\n",
      "금일 : 2022년 03월 28일\n",
      "금일날씨 : 맑음\n"
     ]
    }
   ],
   "source": [
    "day1 = \"1997년 11월 27일의 날씨는 소나기입니다.\"\n",
    "day2 = \"2022년 03월 28일의 날씨는 맑음입니다.\"\n",
    "print(\"생일 : \"+ day[:13])\n",
    "print(\"1997년날씨 : \"+ day[-7:-4])\n",
    "print(\"금일 : \"+ day2[:13])\n",
    "print(\"금일날씨 : \"+ day2[-6:-4])\n",
    "\n"
   ]
  },
  {
   "cell_type": "code",
   "execution_count": 61,
   "id": "69fad116",
   "metadata": {},
   "outputs": [
    {
     "ename": "SyntaxError",
     "evalue": "invalid syntax (Temp/ipykernel_12048/890792658.py, line 4)",
     "output_type": "error",
     "traceback": [
      "\u001b[1;36m  File \u001b[1;32m\"C:\\Users\\smhrd\\AppData\\Local\\Temp/ipykernel_12048/890792658.py\"\u001b[1;36m, line \u001b[1;32m4\u001b[0m\n\u001b[1;33m    a3 = \"오늘은 \"str(year)+\"년\"+str(month)+\"월\"+str(day3)+\"일 입니다.\"\u001b[0m\n\u001b[1;37m               ^\u001b[0m\n\u001b[1;31mSyntaxError\u001b[0m\u001b[1;31m:\u001b[0m invalid syntax\n"
     ]
    }
   ],
   "source": [
    "yeer = 2022\n",
    "month = 3\n",
    "day3 = 28\n",
    "a3 = \"오늘은 \"str(year)+\"년\"+str(month)+\"월\"+str(day3)+\"일 입니다.\"\n",
    "print(a3)\n",
    "\n",
    "#여기까지햇는데 오류"
   ]
  },
  {
   "cell_type": "code",
   "execution_count": null,
   "id": "0594a286",
   "metadata": {},
   "outputs": [],
   "source": []
  },
  {
   "cell_type": "code",
   "execution_count": 11,
   "id": "0247c52d",
   "metadata": {},
   "outputs": [],
   "source": []
  },
  {
   "cell_type": "code",
   "execution_count": 6,
   "id": "cbbd8a48",
   "metadata": {},
   "outputs": [],
   "source": [
    "animal = '강아지'\n",
    "name = '해피'\n",
    "age = 1\n",
    "hobby = '꿀잠'\n",
    "age_ave = age >= 3\n"
   ]
  },
  {
   "cell_type": "code",
   "execution_count": 10,
   "id": "3886ee22",
   "metadata": {},
   "outputs": [
    {
     "name": "stdout",
     "output_type": "stream",
     "text": [
      "우리집 강아지 이름은 해피 에요\n"
     ]
    }
   ],
   "source": [
    "print('우리집 '+ animal +' 이름은 '+name+' 에요')"
   ]
  },
  {
   "cell_type": "code",
   "execution_count": 34,
   "id": "5623b3f8",
   "metadata": {
    "scrolled": true
   },
   "outputs": [
    {
     "name": "stdout",
     "output_type": "stream",
     "text": [
      "해피는 1살이며 꿀잠을 좋아합니다!\n"
     ]
    }
   ],
   "source": [
    "print(f'{name}는 {age}살이며 {hobby}을 좋아합니다!' )"
   ]
  },
  {
   "cell_type": "code",
   "execution_count": 36,
   "id": "2fa22448",
   "metadata": {},
   "outputs": [
    {
     "name": "stdout",
     "output_type": "stream",
     "text": [
      "해피는 어른일까요? False\n"
     ]
    }
   ],
   "source": [
    "print(f'{name}는 어른일까요? {age_ave}')"
   ]
  },
  {
   "cell_type": "code",
   "execution_count": null,
   "id": "a66e1737",
   "metadata": {},
   "outputs": [],
   "source": []
  },
  {
   "cell_type": "code",
   "execution_count": null,
   "id": "a4fd635f",
   "metadata": {},
   "outputs": [],
   "source": []
  },
  {
   "cell_type": "code",
   "execution_count": null,
   "id": "bb2fa3f3",
   "metadata": {},
   "outputs": [],
   "source": []
  }
 ],
 "metadata": {
  "kernelspec": {
   "display_name": "Python 3 (ipykernel)",
   "language": "python",
   "name": "python3"
  },
  "language_info": {
   "codemirror_mode": {
    "name": "ipython",
    "version": 3
   },
   "file_extension": ".py",
   "mimetype": "text/x-python",
   "name": "python",
   "nbconvert_exporter": "python",
   "pygments_lexer": "ipython3",
   "version": "3.9.7"
  }
 },
 "nbformat": 4,
 "nbformat_minor": 5
}
