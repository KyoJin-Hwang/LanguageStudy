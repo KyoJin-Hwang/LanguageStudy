{
 "cells": [
  {
   "cell_type": "markdown",
   "id": "725c4e8e",
   "metadata": {},
   "source": [
    "## 함수란?\n",
    "- 하나의 특별한 목적의 작업을 수행하기 위해 독립적으로 설계된 코드의 집합\n",
    "\n",
    "### 함수를 사용하는 이유\n",
    "- 반복적인 프로그래밍을 피할 수 있다.\n",
    "- 모듈화로 인해 전체적인 코드의 가독성이 좋아진다.\n",
    "- 프로그램에 문제가 발생하거나 기능의 변경이 필요할 때에도 손쉽게 유지보수가 가능하다."
   ]
  },
  {
   "cell_type": "markdown",
   "id": "dda3236a",
   "metadata": {},
   "source": [
    "파이썬 함수 정의방법"
   ]
  },
  {
   "cell_type": "code",
   "execution_count": 2,
   "id": "9524401a",
   "metadata": {},
   "outputs": [],
   "source": [
    "def 함수명(매개변수1, 매개변수2):\n",
    "    실행문장\n",
    "    실행문장2\n",
    "    return 반환결과"
   ]
  },
  {
   "cell_type": "markdown",
   "id": "a3970ead",
   "metadata": {},
   "source": [
    "더하기 기능하는 함수 정의"
   ]
  },
  {
   "cell_type": "code",
   "execution_count": 6,
   "id": "bcfd2ce1",
   "metadata": {},
   "outputs": [],
   "source": [
    "def number_add(num1,num2):\n",
    "    result = num1+num2\n",
    "    return result"
   ]
  },
  {
   "cell_type": "code",
   "execution_count": 10,
   "id": "e925860a",
   "metadata": {},
   "outputs": [
    {
     "name": "stdout",
     "output_type": "stream",
     "text": [
      "13\n"
     ]
    }
   ],
   "source": [
    "# 더하기 기능하는 함수 사용해보기\n",
    "# number_add 사용방법 ->호출 ! \n",
    "result = number_add(3,10)\n",
    "print(result)"
   ]
  },
  {
   "cell_type": "code",
   "execution_count": 12,
   "id": "61c0e1b1",
   "metadata": {},
   "outputs": [
    {
     "name": "stdout",
     "output_type": "stream",
     "text": [
      "함수밖:  0\n",
      "함수안:  안녕하세요!\n"
     ]
    }
   ],
   "source": [
    "# 함수 안의 변수와 밖의 변수\n",
    "# 지역변수 와 전역변수\n",
    "a = 0 \n",
    "def test():\n",
    "    a='안녕하세요!'\n",
    "    print('함수안: ',a)\n",
    "    \n",
    "print('함수밖: ',a)\n",
    "test()"
   ]
  },
  {
   "cell_type": "markdown",
   "id": "16b4e6a1",
   "metadata": {},
   "source": [
    "### 두수를 입력받아서 뺀 결과를 return 하는 함수를 정의하시오."
   ]
  },
  {
   "cell_type": "code",
   "execution_count": 14,
   "id": "6ae8332e",
   "metadata": {},
   "outputs": [],
   "source": [
    "def number_sub(num1,num2):\n",
    "    result = num1-num2\n",
    "    return result"
   ]
  },
  {
   "cell_type": "code",
   "execution_count": 24,
   "id": "5064a7ef",
   "metadata": {},
   "outputs": [
    {
     "name": "stdout",
     "output_type": "stream",
     "text": [
      "첫 번째 정수 입력 >> 10\n",
      "두 번째 정수 입력 >> 7\n",
      "3\n"
     ]
    }
   ],
   "source": [
    "num1 = int(input('첫 번째 정수 입력 >> '))\n",
    "num2 = int(input('두 번째 정수 입력 >> '))\n",
    "# 빼기 기능을 하는 함수 두 인자값 입력하여 호출\n",
    "result = number_sub(num1,num2)\n",
    "print(result)"
   ]
  },
  {
   "cell_type": "code",
   "execution_count": 26,
   "id": "da947678",
   "metadata": {},
   "outputs": [
    {
     "data": {
      "text/plain": [
       "'안녕하세요!'"
      ]
     },
     "execution_count": 26,
     "metadata": {},
     "output_type": "execute_result"
    }
   ],
   "source": [
    "# 문자열 함수중에서\n",
    "# 특정문자를 찾아서 다른걸로 변경한다 replace\n",
    "'안녕하세요~'.replace('~','!')\n"
   ]
  },
  {
   "cell_type": "code",
   "execution_count": null,
   "id": "f4271f7a",
   "metadata": {},
   "outputs": [],
   "source": []
  },
  {
   "cell_type": "code",
   "execution_count": 57,
   "id": "49c209fd",
   "metadata": {},
   "outputs": [
    {
     "name": "stdout",
     "output_type": "stream",
     "text": [
      "문자열입력 >> ㅋㅋㅋㅋㅋ 킼아\n",
      "킼아\n"
     ]
    }
   ],
   "source": [
    "# 1. 함수정의\n",
    "# 2. 위에 코드 작성 후 실행\n",
    "def s_replace(str1):\n",
    "    return str1.replace('ㅋ','').strip() \n",
    "    \n",
    "\n",
    "s = input(\"문자열입력 >> \")\n",
    "result = s_replace(s)\n",
    "print(result)"
   ]
  },
  {
   "cell_type": "code",
   "execution_count": null,
   "id": "42637288",
   "metadata": {},
   "outputs": [],
   "source": [
    "cal() #shift + tap ()괄호안 에서"
   ]
  },
  {
   "cell_type": "code",
   "execution_count": 79,
   "id": "a4a26c9d",
   "metadata": {},
   "outputs": [],
   "source": [
    "# 함수에 대한 설명 달아주기\n",
    "# docstring\n",
    "def cal(num1,num2,op):\n",
    "    \"\"\"덧셈과 뺄셈을 계산하는 함수!!\"\"\"\n",
    "    if op == \"+\":\n",
    "        result = num1+num2\n",
    "    elif op == \"-\":\n",
    "        result = num1-num2\n",
    "    return result\n"
   ]
  },
  {
   "cell_type": "code",
   "execution_count": 78,
   "id": "f4f5f44e",
   "metadata": {},
   "outputs": [
    {
     "name": "stdout",
     "output_type": "stream",
     "text": [
      "첫 번째 정수 입력 >> 1\n",
      "두 번째 정수 입력 >> 1\n",
      "연산자 입력(+,-) >> +\n",
      "결과 : 2\n"
     ]
    }
   ],
   "source": [
    "\n",
    "num1 = int(input('첫 번째 정수 입력 >> '))\n",
    "num2 = int(input('두 번째 정수 입력 >> '))\n",
    "op = input('연산자 입력(+,-) >> ')\n",
    "result = cal(num1,num2,op)\n",
    "print(\"결과 : {}\".format(result))"
   ]
  },
  {
   "cell_type": "markdown",
   "id": "7ff3a906",
   "metadata": {},
   "source": [
    "가변 매개변수\n",
    "- 함수 호출시 몇 개의 인수가 전달 될 지 알 수 없을때 사용\n",
    "- 사용자가 직접 매개변수의 개수를 정할 수 있도록 선언\n",
    "- 키워드 : *"
   ]
  },
  {
   "cell_type": "code",
   "execution_count": 80,
   "id": "bc05719d",
   "metadata": {},
   "outputs": [
    {
     "ename": "SyntaxError",
     "evalue": "invalid syntax (Temp/ipykernel_10172/272603944.py, line 3)",
     "output_type": "error",
     "traceback": [
      "\u001b[1;36m  File \u001b[1;32m\"C:\\Users\\smhrd\\AppData\\Local\\Temp/ipykernel_10172/272603944.py\"\u001b[1;36m, line \u001b[1;32m3\u001b[0m\n\u001b[1;33m    retrun 반환값\u001b[0m\n\u001b[1;37m           ^\u001b[0m\n\u001b[1;31mSyntaxError\u001b[0m\u001b[1;31m:\u001b[0m invalid syntax\n"
     ]
    }
   ],
   "source": [
    "def 함수명(*매개변수):\n",
    "    실행문장\n",
    "    retrun 반환값"
   ]
  },
  {
   "cell_type": "code",
   "execution_count": 94,
   "id": "a44b2ee9",
   "metadata": {},
   "outputs": [],
   "source": [
    "# 아스타리크 *\n",
    "def add(*num):\n",
    "    print(num) # 반환x\n",
    "    "
   ]
  },
  {
   "cell_type": "code",
   "execution_count": 85,
   "id": "b5ba964a",
   "metadata": {},
   "outputs": [
    {
     "name": "stdout",
     "output_type": "stream",
     "text": [
      "<class 'tuple'>\n"
     ]
    }
   ],
   "source": [
    "add(1,2,3,4)"
   ]
  },
  {
   "cell_type": "code",
   "execution_count": 93,
   "id": "b2ee7183",
   "metadata": {},
   "outputs": [
    {
     "name": "stdout",
     "output_type": "stream",
     "text": [
      "(1, 2, 3, 4, 5, 6, 7)\n"
     ]
    }
   ],
   "source": [
    "add(1,2,3,4,5,6,7)"
   ]
  },
  {
   "cell_type": "code",
   "execution_count": 91,
   "id": "ecf08354",
   "metadata": {},
   "outputs": [
    {
     "data": {
      "text/plain": [
       "8"
      ]
     },
     "execution_count": 91,
     "metadata": {},
     "output_type": "execute_result"
    }
   ],
   "source": [
    "# 지수연산자**\n",
    "2**3"
   ]
  },
  {
   "cell_type": "code",
   "execution_count": 1,
   "id": "04e6ec96",
   "metadata": {},
   "outputs": [],
   "source": [
    "# 제곱하는 함수 정의하기\n",
    "def power_of_N(num,power =2):\n",
    "    return num**power"
   ]
  },
  {
   "cell_type": "code",
   "execution_count": 5,
   "id": "d705a2d8",
   "metadata": {},
   "outputs": [
    {
     "data": {
      "text/plain": [
       "1024"
      ]
     },
     "execution_count": 5,
     "metadata": {},
     "output_type": "execute_result"
    }
   ],
   "source": [
    "power_of_N(2,10)"
   ]
  },
  {
   "cell_type": "code",
   "execution_count": 9,
   "id": "07d4e7a0",
   "metadata": {},
   "outputs": [
    {
     "name": "stdout",
     "output_type": "stream",
     "text": [
      "안녕하세요!\n",
      "지영입니다~\n"
     ]
    }
   ],
   "source": [
    "print('안녕하세요!', end='\\n')\n",
    "print('지영입니다~')\n"
   ]
  },
  {
   "cell_type": "markdown",
   "id": "57b4e5cd",
   "metadata": {},
   "source": [
    "return 개념정리\n",
    "- return 언제나 반환값이 하나이다."
   ]
  },
  {
   "cell_type": "code",
   "execution_count": 10,
   "id": "22aac420",
   "metadata": {},
   "outputs": [],
   "source": [
    "def add_sub(num1,num2):\n",
    "    return num1+num2, num1-num2"
   ]
  },
  {
   "cell_type": "code",
   "execution_count": 12,
   "id": "b8220c85",
   "metadata": {},
   "outputs": [
    {
     "name": "stdout",
     "output_type": "stream",
     "text": [
      "17 3\n"
     ]
    }
   ],
   "source": [
    "result1,result2 = add_sub(10,7)\n",
    "print(result1,result2)"
   ]
  },
  {
   "cell_type": "code",
   "execution_count": 13,
   "id": "4e523f05",
   "metadata": {},
   "outputs": [
    {
     "name": "stdout",
     "output_type": "stream",
     "text": [
      "10 7\n"
     ]
    }
   ],
   "source": [
    "a,b= (10,7)\n",
    "print(a,b)"
   ]
  },
  {
   "cell_type": "markdown",
   "id": "707e68a5",
   "metadata": {},
   "source": [
    "함수의 기본모형 4가지"
   ]
  },
  {
   "cell_type": "code",
   "execution_count": 16,
   "id": "771d6c8e",
   "metadata": {},
   "outputs": [
    {
     "name": "stdout",
     "output_type": "stream",
     "text": [
      "지영아 안녕~\n"
     ]
    }
   ],
   "source": [
    "#1. 매개변수 o, 리턴 o \n",
    "def hi(x):\n",
    "    return f'{x}아 안녕~'\n",
    "\n",
    "hi = hi('지영')\n",
    "print(hi)"
   ]
  },
  {
   "cell_type": "code",
   "execution_count": 21,
   "id": "f90c200a",
   "metadata": {},
   "outputs": [
    {
     "name": "stdout",
     "output_type": "stream",
     "text": [
      "지영아 안녕~\n",
      "None\n"
     ]
    }
   ],
   "source": [
    "#2. 매개변수 o, 리턴 x\n",
    "def hi2(name):\n",
    "    print(f'{name}아 안녕~')\n",
    "    \n",
    "hi = hi2('지영')\n",
    "print(hi)"
   ]
  },
  {
   "cell_type": "code",
   "execution_count": 24,
   "id": "7971b861",
   "metadata": {},
   "outputs": [
    {
     "name": "stdout",
     "output_type": "stream",
     "text": [
      "지영아 안녕!!!\n"
     ]
    }
   ],
   "source": [
    "#3. 매개변수 x , 리턴o \n",
    "def hi3():\n",
    "    return '지영아 안녕!!!'\n",
    "\n",
    "result = hi3()\n",
    "print(result)"
   ]
  },
  {
   "cell_type": "code",
   "execution_count": 26,
   "id": "2abc3795",
   "metadata": {},
   "outputs": [
    {
     "name": "stdout",
     "output_type": "stream",
     "text": [
      "안녕하세요\n"
     ]
    }
   ],
   "source": [
    "#4. 매개변수x, 리턴x\n",
    "def hi4():\n",
    "    print('안녕하세요')\n",
    "\n",
    "hi4()"
   ]
  },
  {
   "cell_type": "code",
   "execution_count": null,
   "id": "83108a0c",
   "metadata": {},
   "outputs": [],
   "source": []
  },
  {
   "cell_type": "code",
   "execution_count": null,
   "id": "e85959a5",
   "metadata": {},
   "outputs": [],
   "source": []
  }
 ],
 "metadata": {
  "kernelspec": {
   "display_name": "Python 3 (ipykernel)",
   "language": "python",
   "name": "python3"
  },
  "language_info": {
   "codemirror_mode": {
    "name": "ipython",
    "version": 3
   },
   "file_extension": ".py",
   "mimetype": "text/x-python",
   "name": "python",
   "nbconvert_exporter": "python",
   "pygments_lexer": "ipython3",
   "version": "3.9.7"
  }
 },
 "nbformat": 4,
 "nbformat_minor": 5
}
