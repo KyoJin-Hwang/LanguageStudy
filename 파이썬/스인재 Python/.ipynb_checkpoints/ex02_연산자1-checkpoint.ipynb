{
 "cells": [
  {
   "cell_type": "code",
   "execution_count": 1,
   "id": "e915769d",
   "metadata": {},
   "outputs": [
    {
     "name": "stdout",
     "output_type": "stream",
     "text": [
      "2\n",
      "2.0\n"
     ]
    }
   ],
   "source": [
    "num1 = 10\n",
    "num2 = 5\n",
    "print(num1//num2)\n",
    "print(num1/num2)\n",
    "# 나누기는 실수 변환\n",
    "# 정수 상태는 //로 나누기(몫)진행"
   ]
  },
  {
   "cell_type": "code",
   "execution_count": 2,
   "id": "dee090ad",
   "metadata": {},
   "outputs": [
    {
     "name": "stdout",
     "output_type": "stream",
     "text": [
      "안녕하세요\n"
     ]
    }
   ],
   "source": [
    "# 문자열끼리의 산술 연산은 더하기만 가능하다.\n",
    "\n",
    "str1 = \"안녕\"\n",
    "str2 = \"하세요\"\n",
    "print(str1+str2)"
   ]
  },
  {
   "cell_type": "code",
   "execution_count": 4,
   "id": "a8301bcd",
   "metadata": {},
   "outputs": [
    {
     "name": "stdout",
     "output_type": "stream",
     "text": [
      "107\n",
      "17\n"
     ]
    }
   ],
   "source": [
    "# 원하는 결과값에 따른 형변환 진행\n",
    "# 문자열과 숫자의 더하기 연산은 불가능하다.\n",
    "\n",
    "str3 = \"10\"\n",
    "str4 = 7\n",
    "print(str3+str(str4))\n",
    "print(int(str3)+str4)"
   ]
  },
  {
   "cell_type": "code",
   "execution_count": 6,
   "id": "eb015c41",
   "metadata": {},
   "outputs": [
    {
     "name": "stdout",
     "output_type": "stream",
     "text": [
      "안녕안녕안녕안녕안녕안녕\n"
     ]
    }
   ],
   "source": [
    "# 문자열과 숫자의 곱하기 연산은 가능하다\n",
    "num1 = 6\n",
    "str5 = \"안녕\"\n",
    "print(num1*str5)\n",
    "# 문자열 곱하기 갯수 = 문자열 1 곱한 만큼 출력"
   ]
  },
  {
   "cell_type": "code",
   "execution_count": 9,
   "id": "3035aed3",
   "metadata": {},
   "outputs": [
    {
     "name": "stdout",
     "output_type": "stream",
     "text": [
      "정수를 입력하세요 >> 1\n",
      "<class 'int'>\n",
      "2\n"
     ]
    }
   ],
   "source": [
    "# 키보드로 입력받는 input() 사용법\n",
    "num2 = int(input(\"정수를 입력하세요 >> \"))\n",
    "print(type(num2))\n",
    "print(num2+1)"
   ]
  },
  {
   "cell_type": "code",
   "execution_count": 12,
   "id": "acf569f6",
   "metadata": {},
   "outputs": [
    {
     "name": "stdout",
     "output_type": "stream",
     "text": [
      "정수를 입력하세요 >> 10\n",
      "정수를 입력하세요 >> 5\n",
      "\n",
      "더하기 결과 : 15\n",
      "빼기 결과 : 5\n",
      "곱하기 결과 : 50\n",
      "나누기 결과 : 2.0\n",
      "\n",
      "더하기 결과 : 15\n",
      "빼기 결과 : 5\n",
      "곱하기 결과 : 50\n",
      "나누기 결과 : 2.0\n",
      "\n",
      "더하기 결과 :  15\n",
      "빼기 결과 :  5\n",
      "곱하기 결과 :  50\n",
      "나누기 결과 :  2.0\n"
     ]
    }
   ],
   "source": [
    "num3 = int(input(\"정수를 입력하세요 >> \"))\n",
    "num4 = int(input(\"정수를 입력하세요 >> \"))\n",
    "print()\n",
    "print(\"더하기 결과 : \"+str(num3+num4))\n",
    "print(\"빼기 결과 : \"+str(num3-num4))\n",
    "print(\"곱하기 결과 : \"+str(num3*num4))\n",
    "print(\"나누기 결과 : \"+str(num3/num4))\n",
    "print()\n",
    "print(\"더하기 결과 : {}\".format(num3+num4))\n",
    "print(\"빼기 결과 : {}\".format(num3-num4))\n",
    "print(\"곱하기 결과 : {}\".format(num3*num4))\n",
    "print(\"나누기 결과 : {}\".format(num3/num4))\n",
    "print()\n",
    "print(\"더하기 결과 : \",num3+num4)\n",
    "print(\"빼기 결과 : \",num3-num4)\n",
    "print(\"곱하기 결과 : \",num3*num4)\n",
    "print(\"나누기 결과 : \",num3/num4)"
   ]
  },
  {
   "cell_type": "code",
   "execution_count": 14,
   "id": "3011879a",
   "metadata": {},
   "outputs": [
    {
     "data": {
      "text/plain": [
       "123.76"
      ]
     },
     "execution_count": 14,
     "metadata": {},
     "output_type": "execute_result"
    }
   ],
   "source": [
    "# 반올림 함수\n",
    "round(123.759165,2)"
   ]
  },
  {
   "cell_type": "code",
   "execution_count": 17,
   "id": "3d1667a6",
   "metadata": {},
   "outputs": [
    {
     "name": "stdout",
     "output_type": "stream",
     "text": [
      "시간 입력 >> 7533\n",
      "현재시간은 2시, 5분, 33초 입니다.\n"
     ]
    }
   ],
   "source": [
    "time = int(input(\"시간 입력 >> \"))\n",
    "hour = time//3600\n",
    "minute = time%3600//60\n",
    "second = time%60\n",
    "print(f\"현재시간은 {hour}시, {minute}분, {second}초 입니다.\")"
   ]
  },
  {
   "cell_type": "code",
   "execution_count": 18,
   "id": "a2945854",
   "metadata": {},
   "outputs": [
    {
     "name": "stdout",
     "output_type": "stream",
     "text": [
      "27\n"
     ]
    }
   ],
   "source": [
    "print(3**3)"
   ]
  },
  {
   "cell_type": "code",
   "execution_count": 20,
   "id": "3f2d67f5",
   "metadata": {},
   "outputs": [
    {
     "name": "stdout",
     "output_type": "stream",
     "text": [
      "정수 입력 >> 2\n",
      "지수 입력 >> 3\n",
      "2의 3승은 8입니다.\n"
     ]
    }
   ],
   "source": [
    "num = int(input(\"정수 입력 >> \"))\n",
    "power = int(input(\"지수 입력 >> \"))\n",
    "print(f\"{num}의 {power}승은 {num**power}입니다.\")"
   ]
  }
 ],
 "metadata": {
  "kernelspec": {
   "display_name": "Python 3 (ipykernel)",
   "language": "python",
   "name": "python3"
  },
  "language_info": {
   "codemirror_mode": {
    "name": "ipython",
    "version": 3
   },
   "file_extension": ".py",
   "mimetype": "text/x-python",
   "name": "python",
   "nbconvert_exporter": "python",
   "pygments_lexer": "ipython3",
   "version": "3.9.7"
  }
 },
 "nbformat": 4,
 "nbformat_minor": 5
}
