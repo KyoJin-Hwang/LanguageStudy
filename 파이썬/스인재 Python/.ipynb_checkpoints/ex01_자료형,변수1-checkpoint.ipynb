{
 "cells": [
  {
   "cell_type": "code",
   "execution_count": 1,
   "id": "5d5a9200",
   "metadata": {},
   "outputs": [],
   "source": [
    "# 주석처리 crtl + /"
   ]
  },
  {
   "cell_type": "markdown",
   "id": "f01b31a8",
   "metadata": {},
   "source": [
    "* mark down 상태에서 코드로 변경할 때 : y\n",
    "* 실행 단축키\n",
    "    * ctrl + enter : 현재 셀 실행\n",
    "    * shift + enter : 현재 셀 실행 후 아래 셀 이동(단, 아래 셀이 없을 경우 추가)\n",
    "    * alt + enter : 현재 셀 실행 후 아래 셀 추가 및 이동"
   ]
  },
  {
   "cell_type": "code",
   "execution_count": 2,
   "id": "304c5160",
   "metadata": {},
   "outputs": [
    {
     "data": {
      "text/plain": [
       "2"
      ]
     },
     "execution_count": 2,
     "metadata": {},
     "output_type": "execute_result"
    }
   ],
   "source": [
    "1+1"
   ]
  },
  {
   "cell_type": "code",
   "execution_count": 3,
   "id": "27c7087c",
   "metadata": {},
   "outputs": [
    {
     "name": "stdout",
     "output_type": "stream",
     "text": [
      "3\n"
     ]
    }
   ],
   "source": [
    "num = 3\n",
    "print(num)"
   ]
  },
  {
   "cell_type": "code",
   "execution_count": 4,
   "id": "ec6fa2bd",
   "metadata": {},
   "outputs": [
    {
     "data": {
      "text/plain": [
       "2.5"
      ]
     },
     "execution_count": 4,
     "metadata": {},
     "output_type": "execute_result"
    }
   ],
   "source": [
    "num = 2.5\n",
    "num"
   ]
  },
  {
   "cell_type": "code",
   "execution_count": 5,
   "id": "b07117db",
   "metadata": {},
   "outputs": [
    {
     "name": "stdout",
     "output_type": "stream",
     "text": [
      "김미희\n"
     ]
    }
   ],
   "source": [
    "num = \"김미희\"\n",
    "print(num)"
   ]
  },
  {
   "cell_type": "code",
   "execution_count": 6,
   "id": "4a357b49",
   "metadata": {},
   "outputs": [
    {
     "name": "stdout",
     "output_type": "stream",
     "text": [
      "정형\n"
     ]
    }
   ],
   "source": [
    "num = '정형'\n",
    "print(num)"
   ]
  },
  {
   "cell_type": "code",
   "execution_count": 7,
   "id": "23622578",
   "metadata": {},
   "outputs": [
    {
     "name": "stdout",
     "output_type": "stream",
     "text": [
      "10 15 10 15\n"
     ]
    }
   ],
   "source": [
    "a = 10\n",
    "b = 15\n",
    "c,d = 10, 15\n",
    "print(a,b,c,d)"
   ]
  },
  {
   "cell_type": "code",
   "execution_count": 8,
   "id": "fdf04bd3",
   "metadata": {},
   "outputs": [
    {
     "name": "stdout",
     "output_type": "stream",
     "text": [
      "python python python python\n"
     ]
    }
   ],
   "source": [
    "# str1과 str2에 python 문자열 대입\n",
    "str1 = \"python\"\n",
    "str2 = \"python\"\n",
    "str3 = str4 = \"python\"\n",
    "print(str1,str2,str3,str4)"
   ]
  },
  {
   "cell_type": "code",
   "execution_count": 11,
   "id": "a7fd7d87",
   "metadata": {},
   "outputs": [
    {
     "name": "stdout",
     "output_type": "stream",
     "text": [
      "True\n",
      "False\n"
     ]
    }
   ],
   "source": [
    "state = True\n",
    "state2 = False\n",
    "print(state)\n",
    "print(state2)"
   ]
  },
  {
   "cell_type": "code",
   "execution_count": 15,
   "id": "1a06332a",
   "metadata": {},
   "outputs": [
    {
     "name": "stdout",
     "output_type": "stream",
     "text": [
      "she's gone\n",
      "she's gone\n"
     ]
    }
   ],
   "source": [
    "s1 = \"she's gone\"\n",
    "s2 = 'she\\'s gone'\n",
    "print(s1)\n",
    "print(s2)"
   ]
  },
  {
   "cell_type": "code",
   "execution_count": 16,
   "id": "b9b12873",
   "metadata": {},
   "outputs": [
    {
     "name": "stdout",
     "output_type": "stream",
     "text": [
      "she's gone\n"
     ]
    }
   ],
   "source": [
    "# '문자열' vs \"문자열\"\n",
    "# 문자열 안에 ' 표현하고 싶을 때는 \"\"사용\n",
    "# 문자열 안에 \" 표현하고 싶을 때는 ''사용\n",
    "\n",
    "s1 = \"she's gone\"\n",
    "print(s1)"
   ]
  },
  {
   "cell_type": "code",
   "execution_count": 17,
   "id": "2c74bb13",
   "metadata": {},
   "outputs": [
    {
     "name": "stdout",
     "output_type": "stream",
     "text": [
      "he said that \"she is gone\"\n"
     ]
    }
   ],
   "source": [
    "s2 = 'he said that \"she is gone\"'\n",
    "print(s2)"
   ]
  },
  {
   "cell_type": "code",
   "execution_count": null,
   "id": "5da7b83b",
   "metadata": {},
   "outputs": [],
   "source": [
    "#문자열에 \"\"와 ''같이 사용한다면 역슬러시 \\를 넣어준다."
   ]
  },
  {
   "cell_type": "code",
   "execution_count": 20,
   "id": "9e933d01",
   "metadata": {},
   "outputs": [
    {
     "name": "stdout",
     "output_type": "stream",
     "text": [
      "자세히 보아야 예쁘다\n",
      "오래 보아야 사랑스럽다.\n",
      "너도 그렇다.\n",
      "4줄\n",
      "5줄\n"
     ]
    }
   ],
   "source": [
    "s3 = \"\"\"자세히 보아야 예쁘다\n",
    "오래 보아야 사랑스럽다.\n",
    "너도 그렇다.\n",
    "4줄\n",
    "5줄\"\"\"\n",
    "\n",
    "\n",
    "\n",
    "print(s3)"
   ]
  },
  {
   "cell_type": "code",
   "execution_count": 19,
   "id": "2f20a6cc",
   "metadata": {},
   "outputs": [
    {
     "data": {
      "text/plain": [
       "'여러줄 주석문 만들기\\n1번째 줄\\n2번째 줄'"
      ]
     },
     "execution_count": 19,
     "metadata": {},
     "output_type": "execute_result"
    }
   ],
   "source": [
    "\"\"\"여러줄 주석문 만들기\n",
    "1번째 줄\n",
    "2번째 줄\"\"\"\n",
    "\n",
    "# 주석으로 \"\"\"주석내용\"\"\" 사용하기\n",
    "# 주석으로 '''주석내용''' 사용하기\n",
    "#  print 사용하기"
   ]
  },
  {
   "cell_type": "code",
   "execution_count": 26,
   "id": "123d38e7",
   "metadata": {},
   "outputs": [
    {
     "name": "stdout",
     "output_type": "stream",
     "text": [
      "M\n",
      "i\n",
      "H\n",
      "H\n",
      "s\n"
     ]
    }
   ],
   "source": [
    "# 문자열 인덱싱\n",
    "\n",
    "s4 = 'My name is MH'\n",
    "print(s4[0])\n",
    "print(s4[8])\n",
    "print(s4[12])\n",
    "print(s4[-1])\n",
    "print(s4[-4])"
   ]
  },
  {
   "cell_type": "code",
   "execution_count": 27,
   "id": "ce8b0f41",
   "metadata": {},
   "outputs": [
    {
     "name": "stdout",
     "output_type": "stream",
     "text": [
      "name\n"
     ]
    }
   ],
   "source": [
    "print(s4[3]+s4[4]+s4[5]+s4[6])"
   ]
  },
  {
   "cell_type": "code",
   "execution_count": 39,
   "id": "82d2ad7d",
   "metadata": {},
   "outputs": [
    {
     "name": "stdout",
     "output_type": "stream",
     "text": [
      "My n\n",
      "name is \n",
      "name is MH\n",
      "is M\n",
      "My n\n",
      "name is MH\n",
      "is MH\n",
      "\n",
      "name is\n"
     ]
    }
   ],
   "source": [
    "# 문자열 슬라이싱\n",
    "s5 = 'My name is MH'\n",
    "\n",
    "print(s5[0:4])\n",
    "print(s5[3:11])\n",
    "print(s5[3:15])\n",
    "print(s5[-5:-1])\n",
    "\n",
    "# 0부터 잘라내고 싶을 때\n",
    "print(s5[:4])\n",
    "print(s5[3:])\n",
    "print(s5[-5:])\n",
    "print(s5[10:3])\n",
    "print(s5[3:10])"
   ]
  },
  {
   "cell_type": "code",
   "execution_count": 42,
   "id": "54e4b6a0",
   "metadata": {},
   "outputs": [
    {
     "name": "stdout",
     "output_type": "stream",
     "text": [
      "날짜 : 2022년 3월 3일\n",
      "날짜 : 맑음\n"
     ]
    }
   ],
   "source": [
    "day = \"2022년 3월 3일의 날짜는 맑음입니다.\"\n",
    "print(\"날짜 : \"+day[:11])\n",
    "print(\"날짜 : \"+day[-6:-4])"
   ]
  },
  {
   "cell_type": "code",
   "execution_count": 45,
   "id": "18d38751",
   "metadata": {},
   "outputs": [
    {
     "name": "stdout",
     "output_type": "stream",
     "text": [
      "오늘은 3월23일 입니다.\n"
     ]
    }
   ],
   "source": [
    "month = 3\n",
    "day = 23\n",
    "s6 = \"오늘은 \"+str(month)+\"월\"+str(day)+\"일 입니다.\"\n",
    "print(s6)"
   ]
  },
  {
   "cell_type": "code",
   "execution_count": 53,
   "id": "c3665683",
   "metadata": {},
   "outputs": [
    {
     "name": "stdout",
     "output_type": "stream",
     "text": [
      "오늘은 3월 23일 입니다.\n"
     ]
    }
   ],
   "source": [
    "# %기호 호매팅 -> %d를 활용해서 정수 대입\n",
    "month = 3\n",
    "day = 23\n",
    "s6 = \"오늘은 %d월 %d일 입니다.\" %(month,day)\n",
    "print(s6)"
   ]
  },
  {
   "cell_type": "code",
   "execution_count": 55,
   "id": "c5ce1a22",
   "metadata": {},
   "outputs": [
    {
     "name": "stdout",
     "output_type": "stream",
     "text": [
      "오늘은 3월 23일 입니다\n"
     ]
    }
   ],
   "source": [
    "# format 함수 포매팅\n",
    "month = 3\n",
    "day = 23\n",
    "s6 = \"오늘은 {}월 {}일 입니다\".format(month,day)\n",
    "print(s6)"
   ]
  },
  {
   "cell_type": "code",
   "execution_count": 56,
   "id": "af4fc750",
   "metadata": {},
   "outputs": [
    {
     "name": "stdout",
     "output_type": "stream",
     "text": [
      "오늘은 3월 23일 입니다.\n"
     ]
    }
   ],
   "source": [
    "# f문자열 포매팅\n",
    "month = 3\n",
    "day = 23\n",
    "s6 = f\"오늘은 {month}월 {day}일 입니다.\"\n",
    "print(s6)"
   ]
  },
  {
   "cell_type": "code",
   "execution_count": 65,
   "id": "35869b41",
   "metadata": {},
   "outputs": [
    {
     "name": "stdout",
     "output_type": "stream",
     "text": [
      "100와 200의 합은 300입니다.\n",
      "100와 200의 합은 300입니다.\n",
      "100와 200의 합은 300입니다.\n"
     ]
    }
   ],
   "source": [
    "x=100\n",
    "y=200\n",
    "sum2=x+y\n",
    "print(\"{}와 {}의 합은 {}입니다.\".format(x,y,x+y))\n",
    "print(\"%d와 %d의 합은 %d입니다.\"%(x,y,x+y))\n",
    "print(f\"{x}와 {y}의 합은 {sum2}입니다.\")\n",
    "# %기호 포매팅과 format 함수 포매팅은 x+y연산되는 상태로 출력이 가능하나,\n",
    "# f문자열 포매팅의 경우는 포매팅 {}내부 연산이 불가능하다."
   ]
  },
  {
   "cell_type": "code",
   "execution_count": 71,
   "id": "9e7583e2",
   "metadata": {},
   "outputs": [
    {
     "name": "stdout",
     "output_type": "stream",
     "text": [
      "3\n",
      "1\n",
      "6\n",
      "6\n",
      "MY NAME IS MIHEE\n",
      "my name is mihee\n",
      "My name is KimMihee\n",
      "15\n",
      "['My', 'name', 'is', 'Mihee']\n",
      "16\n"
     ]
    }
   ],
   "source": [
    "s7 = \"My name is Mihee\"\n",
    "\n",
    "# 문자열에 포함된 문자 개수 세기\n",
    "print(s7.count('e'))\n",
    "print(s7.count(\"Mihee\"))\n",
    "\n",
    "# 문자 위치 알려주기\n",
    "print(s7.index(\"e\"))\n",
    "print(s7.find(\"e\"))\n",
    "\n",
    "# 대소문자 변환\n",
    "print(s7.upper())\n",
    "print(s7.lower())\n",
    "\n",
    "# 문자열 바꾸기\n",
    "print(s7.replace(\"Mihee\",\"KimMihee\"))\n",
    "print(s7.rfind(\"e\"))\n",
    "\n",
    "# 문자열 자르기(리스트타입으로 반환된다.)\n",
    "print(s7.split())\n",
    "\n",
    "\n",
    "# 문자길이 확인\n",
    "print(len(s7))\n",
    "# len은 1부터 샌다."
   ]
  }
 ],
 "metadata": {
  "kernelspec": {
   "display_name": "Python 3 (ipykernel)",
   "language": "python",
   "name": "python3"
  },
  "language_info": {
   "codemirror_mode": {
    "name": "ipython",
    "version": 3
   },
   "file_extension": ".py",
   "mimetype": "text/x-python",
   "name": "python",
   "nbconvert_exporter": "python",
   "pygments_lexer": "ipython3",
   "version": "3.9.7"
  }
 },
 "nbformat": 4,
 "nbformat_minor": 5
}
