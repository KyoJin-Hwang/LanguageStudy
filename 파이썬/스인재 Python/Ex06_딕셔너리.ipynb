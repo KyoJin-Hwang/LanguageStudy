{
 "cells": [
  {
   "cell_type": "markdown",
   "id": "53169d98",
   "metadata": {},
   "source": [
    "### 딕셔너리\n",
    "- key값은 변할 수 없는 값\n",
    "- value값은 변할 수 있는 값\n",
    "- 딕셔너리는 key:value 맵핑되어져 있는 자료구조"
   ]
  },
  {
   "cell_type": "markdown",
   "id": "084d0f5b",
   "metadata": {},
   "source": [
    "딕셔너리 선언"
   ]
  },
  {
   "cell_type": "code",
   "execution_count": 10,
   "id": "f9c60c56",
   "metadata": {},
   "outputs": [
    {
     "data": {
      "text/plain": [
       "{1: 36, 2: 45, 3: 100}"
      ]
     },
     "execution_count": 10,
     "metadata": {},
     "output_type": "execute_result"
    }
   ],
   "source": [
    "a ={'name':'김희연'} # 요소가 1개 담긴 상황\n",
    "a\n",
    "b = {'a':['양서린','최보현','하종현'],\n",
    "     'b':['김주란','김순기','박호진']} #요소가 2개담긴 상황\n",
    "b\n",
    "c = {1:36,2:45,3:100}\n",
    "c"
   ]
  },
  {
   "cell_type": "code",
   "execution_count": 9,
   "id": "16ea29e0",
   "metadata": {},
   "outputs": [
    {
     "name": "stdout",
     "output_type": "stream",
     "text": [
      "<class 'dict'>\n",
      "<class 'dict'>\n"
     ]
    }
   ],
   "source": [
    "# 딕셔너리 자료형 확인\n",
    "print(type(a))\n",
    "print(type(b))"
   ]
  },
  {
   "cell_type": "code",
   "execution_count": 21,
   "id": "e97b62e0",
   "metadata": {},
   "outputs": [
    {
     "data": {
      "text/plain": [
       "{'name': '주란', 'birth': '0212', 'phone': '010-6549-4918'}"
      ]
     },
     "execution_count": 21,
     "metadata": {},
     "output_type": "execute_result"
    }
   ],
   "source": [
    "# 딕셔너리 선언\n",
    "# 인물정보를 담아보자 \n",
    "dict1 = {'name':'주란','birth':'0212','phone':'010-6549-4918'}\n",
    "dict1"
   ]
  },
  {
   "cell_type": "markdown",
   "id": "610d753c",
   "metadata": {},
   "source": [
    "   딕셔너리 새로운 데이터 추가"
   ]
  },
  {
   "cell_type": "code",
   "execution_count": 28,
   "id": "77069a3e",
   "metadata": {},
   "outputs": [
    {
     "data": {
      "text/plain": [
       "{'name': '주란', 'birth': '0213', 'phone': '010-6549-4000', 'blood': 'b형'}"
      ]
     },
     "execution_count": 28,
     "metadata": {},
     "output_type": "execute_result"
    }
   ],
   "source": [
    "dict1['blood'] = 'b형'\n",
    "dict1"
   ]
  },
  {
   "cell_type": "code",
   "execution_count": 16,
   "id": "83533d3d",
   "metadata": {},
   "outputs": [
    {
     "data": {
      "text/plain": [
       "{'노래제목': '아무노래', '가수': '지코', '날짜': '2020,01,13'}"
      ]
     },
     "execution_count": 16,
     "metadata": {},
     "output_type": "execute_result"
    }
   ],
   "source": [
    "dic_test = {'노래제목':'아무노래'}\n",
    "dic_test['가수'] = '지코'\n",
    "dic_test['날짜'] = '2020,01,13'\n",
    "\n",
    "dic_test"
   ]
  },
  {
   "cell_type": "markdown",
   "id": "057cd65c",
   "metadata": {},
   "source": [
    "딕셔너리 데이터 접근(확인)"
   ]
  },
  {
   "cell_type": "code",
   "execution_count": 17,
   "id": "a0d7c1b6",
   "metadata": {},
   "outputs": [
    {
     "data": {
      "text/plain": [
       "'지코'"
      ]
     },
     "execution_count": 17,
     "metadata": {},
     "output_type": "execute_result"
    }
   ],
   "source": [
    "# 리스트 튜플은 인덱스 또는 슬라이싱(인덱스번호활용)\n",
    "# 딕셔너리 key을 통해 데이터 접근\n",
    "# dic_test 가수 접근\n",
    "dic_test['가수']"
   ]
  },
  {
   "cell_type": "code",
   "execution_count": 19,
   "id": "bb789d3d",
   "metadata": {},
   "outputs": [
    {
     "data": {
      "text/plain": [
       "'0212'"
      ]
     },
     "execution_count": 19,
     "metadata": {},
     "output_type": "execute_result"
    }
   ],
   "source": [
    "# 딕셔너리[키] : 데이터 접근\n",
    "# 주란의생일정보 접근\n",
    "dict1['birth']"
   ]
  },
  {
   "cell_type": "markdown",
   "id": "bc27bd07",
   "metadata": {},
   "source": [
    "딕셔너리 값 수정"
   ]
  },
  {
   "cell_type": "code",
   "execution_count": 22,
   "id": "3486f03e",
   "metadata": {},
   "outputs": [
    {
     "data": {
      "text/plain": [
       "{'name': '주란', 'birth': '0213', 'phone': '010-6549-4918'}"
      ]
     },
     "execution_count": 22,
     "metadata": {},
     "output_type": "execute_result"
    }
   ],
   "source": [
    "# 딕셔너리[키] = ?\n",
    "# 0213 \n",
    "dict1['birth'] = '0213'\n",
    "dict1"
   ]
  },
  {
   "cell_type": "code",
   "execution_count": 24,
   "id": "b0aa9011",
   "metadata": {},
   "outputs": [
    {
     "data": {
      "text/plain": [
       "{'name': '주란', 'birth': '0213', 'phone': '010-6549-4000'}"
      ]
     },
     "execution_count": 24,
     "metadata": {},
     "output_type": "execute_result"
    }
   ],
   "source": [
    "# dict phone\n",
    "# 4000 변경\n",
    "dict1['phone'] = '010-6549-4000'\n",
    "dict1"
   ]
  },
  {
   "cell_type": "markdown",
   "id": "406568b5",
   "metadata": {},
   "source": [
    "딕셔너리 데이터 삭제"
   ]
  },
  {
   "cell_type": "code",
   "execution_count": 29,
   "id": "588f954e",
   "metadata": {},
   "outputs": [
    {
     "data": {
      "text/plain": [
       "{'name': '주란', 'birth': '0213', 'phone': '010-6549-4000'}"
      ]
     },
     "execution_count": 29,
     "metadata": {},
     "output_type": "execute_result"
    }
   ],
   "source": [
    "# 혈액형 정보 삭제\n",
    "\n",
    "del dict1['blood']\n",
    "dict1"
   ]
  },
  {
   "cell_type": "code",
   "execution_count": 32,
   "id": "cc37b218",
   "metadata": {},
   "outputs": [],
   "source": [
    "# 모든정보 삭제\n",
    "dict1.clear()"
   ]
  },
  {
   "cell_type": "code",
   "execution_count": 33,
   "id": "18cac5c7",
   "metadata": {},
   "outputs": [
    {
     "data": {
      "text/plain": [
       "{}"
      ]
     },
     "execution_count": 33,
     "metadata": {},
     "output_type": "execute_result"
    }
   ],
   "source": [
    "dict1"
   ]
  },
  {
   "cell_type": "code",
   "execution_count": 42,
   "id": "97d8d071",
   "metadata": {},
   "outputs": [
    {
     "data": {
      "text/plain": [
       "'aaaaaaa'"
      ]
     },
     "execution_count": 42,
     "metadata": {},
     "output_type": "execute_result"
    }
   ],
   "source": [
    "str1 ='aaaAAAA'\n",
    "str1.lower() # 결과 'aaaaaaa'  아직 반영안됨\n",
    "str1 = str1.lower() # 반영 o\n",
    "str1"
   ]
  },
  {
   "cell_type": "code",
   "execution_count": 56,
   "id": "bb21b99f",
   "metadata": {},
   "outputs": [],
   "source": [
    "b\n",
    "del b['a']\n"
   ]
  },
  {
   "cell_type": "code",
   "execution_count": 46,
   "id": "1b3de95a",
   "metadata": {},
   "outputs": [
    {
     "data": {
      "text/plain": [
       "{'a': ['양서린', '최보현', '하종현'],\n",
       " 'b': ['김주란', '김순기', '박호진'],\n",
       " 'num': [1, 2, 3],\n",
       " 'birth': ['0212', '0227', '0322']}"
      ]
     },
     "execution_count": 46,
     "metadata": {},
     "output_type": "execute_result"
    }
   ],
   "source": [
    "#b반 정보추가\n",
    "b['num'] = [1,2,3]\n",
    "b['birth'] = ['0212','0227','0322']\n",
    "b"
   ]
  },
  {
   "cell_type": "markdown",
   "id": "13465170",
   "metadata": {},
   "source": [
    "딕셔너리 관련함수\n",
    "\n",
    "* keys():키값들 확인 함수 *\n",
    "* values():벨류값들 확인 함수 *\n",
    "* items():키와 벨류확인 함수 *"
   ]
  },
  {
   "cell_type": "code",
   "execution_count": 47,
   "id": "9d566f8d",
   "metadata": {},
   "outputs": [
    {
     "data": {
      "text/plain": [
       "dict_keys(['a', 'b', 'num', 'birth'])"
      ]
     },
     "execution_count": 47,
     "metadata": {},
     "output_type": "execute_result"
    }
   ],
   "source": [
    "b.keys()"
   ]
  },
  {
   "cell_type": "code",
   "execution_count": 50,
   "id": "888d0bda",
   "metadata": {},
   "outputs": [
    {
     "data": {
      "text/plain": [
       "dict_items([('a', ['양서린', '최보현', '하종현']), ('b', ['김주란', '김순기', '박호진']), ('num', [1, 2, 3]), ('birth', ['0212', '0227', '0322'])])"
      ]
     },
     "execution_count": 50,
     "metadata": {},
     "output_type": "execute_result"
    }
   ],
   "source": [
    "b.items()"
   ]
  },
  {
   "cell_type": "code",
   "execution_count": null,
   "id": "a64e5417",
   "metadata": {},
   "outputs": [],
   "source": [
    "for-dict 활용해보기"
   ]
  },
  {
   "cell_type": "code",
   "execution_count": 53,
   "id": "ddb1cca0",
   "metadata": {},
   "outputs": [
    {
     "name": "stdout",
     "output_type": "stream",
     "text": [
      "['양서린', '최보현', '하종현']\n",
      "['김주란', '김순기', '박호진']\n",
      "[1, 2, 3]\n",
      "['0212', '0227', '0322']\n"
     ]
    }
   ],
   "source": [
    "for i in b.values():\n",
    "    print(i)"
   ]
  },
  {
   "cell_type": "code",
   "execution_count": 63,
   "id": "7890bdaa",
   "metadata": {},
   "outputs": [
    {
     "name": "stdout",
     "output_type": "stream",
     "text": [
      "김주란\n",
      "1\n",
      "0212\n"
     ]
    }
   ],
   "source": [
    "# 딕셔너리 데이터 접근 딕셔너리[키값]\n",
    "for i in b:\n",
    "    print(b[i][1]) #딕셔너리 접근 방법 [ ==키값들..]\n",
    "    # b 딕셔너리 ->b['키']\n",
    "    # b ['키'] -> 리스트[인덱스번호]"
   ]
  },
  {
   "cell_type": "code",
   "execution_count": 66,
   "id": "44bcb6ed",
   "metadata": {},
   "outputs": [
    {
     "name": "stdout",
     "output_type": "stream",
     "text": [
      "박호진\n",
      "3\n",
      "0322\n"
     ]
    }
   ],
   "source": [
    "# 박호진정보 출력\n",
    "# b사용\n",
    "# b.values()\n",
    "# b.keys\n",
    "for i in b.keys():\n",
    "    print(b[i][2]) "
   ]
  },
  {
   "cell_type": "code",
   "execution_count": 68,
   "id": "d97954d7",
   "metadata": {},
   "outputs": [
    {
     "name": "stdout",
     "output_type": "stream",
     "text": [
      "박호진\n",
      "3\n",
      "0322\n"
     ]
    }
   ],
   "source": [
    "for i in b.values():\n",
    "    print(i[2])"
   ]
  },
  {
   "cell_type": "code",
   "execution_count": 81,
   "id": "7dae85e2",
   "metadata": {},
   "outputs": [
    {
     "data": {
      "text/plain": [
       "[{'name': '주란', 'birth': '0212'},\n",
       " {'name': '지영', 'birth': '0211'},\n",
       " {'name': '호진', 'birth': '0322'}]"
      ]
     },
     "execution_count": 81,
     "metadata": {},
     "output_type": "execute_result"
    }
   ],
   "source": [
    "dict2 = [{'name':'주란','birth':'0212'},\n",
    "        {'name':'지영','birth':'0211'},\n",
    "        {'name':'호진','birth':'0322'}]\n",
    "len(dict2)\n",
    "dict2"
   ]
  },
  {
   "cell_type": "code",
   "execution_count": null,
   "id": "90fa947c",
   "metadata": {},
   "outputs": [],
   "source": [
    "# for 문 활용하여 생일 정보들만 출력하기 "
   ]
  },
  {
   "cell_type": "code",
   "execution_count": 102,
   "id": "8cb7cb24",
   "metadata": {},
   "outputs": [
    {
     "name": "stdout",
     "output_type": "stream",
     "text": [
      "주란\n",
      "지영\n",
      "호진\n"
     ]
    }
   ],
   "source": [
    "for i in dict2:\n",
    "    print(i['name'])# 딕셔너리 생일접근.\n",
    "    "
   ]
  },
  {
   "cell_type": "markdown",
   "id": "39bba874",
   "metadata": {},
   "source": [
    "####  최종 마무리 : 딕셔너리 정리\n",
    "- {key:value} 딕셔너리\n",
    "- 데이터를 저장할때 키값을 통해서 데이터의 정보를 명확하게 입력\n",
    "- 키값은 변할수없음, value는 변할 수 있음\n",
    "- value는 수정,삭제,추가 가능\n",
    "- 수정방법 : 딕셔너리['키값'] = '새로운데이터'\n",
    "- 추가방법 : 딕셔너리['새로운키'] = '데이터'\n",
    "- 삭제방법 : del 딕셔너리['키값'] \n",
    "- 데이터에 접근 : 딕셔너리['키']\n"
   ]
  },
  {
   "cell_type": "code",
   "execution_count": null,
   "id": "6711da4d",
   "metadata": {},
   "outputs": [],
   "source": []
  },
  {
   "cell_type": "code",
   "execution_count": null,
   "id": "5f3b69a3",
   "metadata": {},
   "outputs": [],
   "source": []
  },
  {
   "cell_type": "code",
   "execution_count": null,
   "id": "d0d29033",
   "metadata": {},
   "outputs": [],
   "source": []
  },
  {
   "cell_type": "code",
   "execution_count": null,
   "id": "00b36beb",
   "metadata": {},
   "outputs": [],
   "source": []
  },
  {
   "cell_type": "code",
   "execution_count": null,
   "id": "2cd265c7",
   "metadata": {},
   "outputs": [],
   "source": []
  }
 ],
 "metadata": {
  "kernelspec": {
   "display_name": "Python 3 (ipykernel)",
   "language": "python",
   "name": "python3"
  },
  "language_info": {
   "codemirror_mode": {
    "name": "ipython",
    "version": 3
   },
   "file_extension": ".py",
   "mimetype": "text/x-python",
   "name": "python",
   "nbconvert_exporter": "python",
   "pygments_lexer": "ipython3",
   "version": "3.9.7"
  }
 },
 "nbformat": 4,
 "nbformat_minor": 5
}
